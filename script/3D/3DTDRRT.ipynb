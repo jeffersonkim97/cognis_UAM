{
 "cells": [
  {
   "cell_type": "code",
   "execution_count": null,
   "metadata": {},
   "outputs": [],
   "source": [
    "import numpy as np\n",
    "import matplotlib.pyplot as plt\n",
    "import random as rn"
   ]
  },
  {
   "cell_type": "code",
   "execution_count": null,
   "metadata": {},
   "outputs": [],
   "source": [
    "#Setup Geometry\n",
    "map_factor = 10\n",
    "map_size = np.array([0, 1, 0, 1])*map_factor\n",
    "building1_x = np.array([.5, .5, 1, 1, 0.5])*map_factor\n",
    "building1_y = np.array([.4, .6, .6, .4, 0.4])*map_factor\n",
    "building2_x = np.array([0, 0, .25, .25, 0])*map_factor\n",
    "building2_y = np.array([0, 1, 1, 0, 0])*map_factor\n",
    "building_height = np.array([.15, .15, .15, .15, .15])*map_factor"
   ]
  },
  {
   "cell_type": "code",
   "execution_count": null,
   "metadata": {},
   "outputs": [],
   "source": [
    "ax = plt.figure().add_subplot(projection='3d')\n",
    "ax.plot(building1_x, building1_y, np.array([0, 0, 0, 0, 0]), '-k')\n",
    "ax.plot(building1_x, building1_y, building_height, '-k')\n",
    "\n",
    "ax.plot(building2_x, building2_y, np.array([0, 0, 0, 0, 0]), '-k')\n",
    "ax.plot(building2_x, building2_y, building_height, '-k')\n",
    "\n",
    "# Make legend, set axes limits and labels\n",
    "ax.legend()\n",
    "ax.set_xlim(0, map_size[1])\n",
    "ax.set_ylim(0, map_size[3])\n",
    "ax.set_zlim(0, map_factor)\n",
    "ax.set_xlabel('X')\n",
    "ax.set_ylabel('Y')\n",
    "ax.set_zlabel('Z')\n",
    "\n",
    "# Customize the view angle so it's easier to see that the scatter points lie\n",
    "# on the plane y=0\n",
    "ax.view_init(elev=40., azim=40, roll=0)\n",
    "\n",
    "plt.show()"
   ]
  },
  {
   "cell_type": "code",
   "execution_count": null,
   "metadata": {},
   "outputs": [],
   "source": [
    "# Initial Variables\n",
    "x0 = np.array([8, 0, 5])\n",
    "xf = np.array([8, 8, 5])\n",
    "repeat = True\n",
    "t_range = 1"
   ]
  },
  {
   "cell_type": "code",
   "execution_count": 51,
   "metadata": {},
   "outputs": [],
   "source": [
    "# Vehicle Variables\n",
    "yawrate = np.deg2rad(5)\n",
    "pitchrate = np.deg2rad(2.5)\n",
    "velocity = 1"
   ]
  },
  {
   "cell_type": "code",
   "execution_count": 53,
   "metadata": {},
   "outputs": [],
   "source": [
    "# Storage\n",
    "Tree = {}\n",
    "Tree['x0'] = {}\n",
    "Tree['xf'] = {}\n",
    "Tree['x0']['Position'] = x0\n",
    "Tree['x0']['Time'] = 0\n",
    "Tree['x0']['Time Cost'] = 0\n",
    "Tree['x0']['Dist Cost'] = 0"
   ]
  },
  {
   "cell_type": "code",
   "execution_count": 64,
   "metadata": {},
   "outputs": [
    {
     "name": "stdout",
     "output_type": "stream",
     "text": [
      "Random Sample\n",
      "8.592216964281423\n",
      "0.02261276763045804\n",
      "5.011851866437102\n",
      "False\n",
      "x0\n",
      "{'x0': {'Position': array([8, 0, 5]), 'Time': 0, 'Time Cost': 0, 'Dist Cost': 0, 'Child': 'x1'}, 'xf': {}, 'x1': {'Parent': 'x0', 'Position': array([8.59221696, 0.02261277, 5.01185187]), 'Time': 0.5927670172847475, 'Time Cost': 0.5927670172847475, 'Dist Cost': 0.5927670172847475}}\n"
     ]
    },
    {
     "ename": "NameError",
     "evalue": "name 'asdfasdf' is not defined",
     "output_type": "error",
     "traceback": [
      "\u001b[0;31m---------------------------------------------------------------------------\u001b[0m",
      "\u001b[0;31mNameError\u001b[0m                                 Traceback (most recent call last)",
      "Cell \u001b[0;32mIn[64], line 70\u001b[0m\n\u001b[1;32m     67\u001b[0m \u001b[39mprint\u001b[39m(Tree)\n\u001b[1;32m     69\u001b[0m xprev \u001b[39m=\u001b[39m x1\n\u001b[0;32m---> 70\u001b[0m asdfasdf\n",
      "\u001b[0;31mNameError\u001b[0m: name 'asdfasdf' is not defined"
     ]
    }
   ],
   "source": [
    "xprev = x0\n",
    "counter = 1\n",
    "while repeat:\n",
    "    # set probability\n",
    "    sample = np.array([0.8, 0.2])\n",
    "\n",
    "    # Vehicle Sample Domain\n",
    "    rn_t = rn.uniform(0, t_range)\n",
    "\n",
    "    # Randomly sample X1\n",
    "    rn_select = rn.uniform(0, 1)\n",
    "    nextNode = True\n",
    "    while nextNode:\n",
    "        if rn_select >= 0 and rn_select < sample[0]:\n",
    "            print('Random Sample')\n",
    "            rn_yawangle = rn.uniform(0, yawrate*rn_t)\n",
    "            rn_pitchangle = rn.uniform(0, pitchrate*rn_t)\n",
    "            R = velocity*rn_t\n",
    "            rn_x = xprev[0] + R*np.cos(rn_pitchangle)*np.cos(rn_yawangle)\n",
    "            rn_y = xprev[1] + R*np.cos(rn_pitchangle)*np.sin(rn_yawangle)\n",
    "            rn_z = xprev[2] + R*np.sin(rn_pitchangle)\n",
    "        elif rn_select >= sample[0] and rn_select <= (sample[0] + sample[1]):\n",
    "            print('To Final')\n",
    "            normvec = (xf-x0)/np.linalg.norm(xf-x0, 2)\n",
    "            R = velocity*rn_t\n",
    "            travel = R*normvec\n",
    "            rn_x = xprev[0] + travel[0]\n",
    "            rn_y = xprev[1] + travel[1]\n",
    "            rn_z = xprev[2] + travel[2]\n",
    "        \n",
    "        print(rn_x)\n",
    "        print(rn_y)\n",
    "        print(rn_z)\n",
    "        \n",
    "        # Check map bounds\n",
    "        if ((rn_x >= map_size[0] and rn_x <= map_size[1])&(rn_y >= map_size[2] and rn_y <= map_size[3])&(rn_z >= 0 and rn_z <= building_height)).all:\n",
    "            # Check building bounds\n",
    "            # Check camera FOV\n",
    "            nextNode = False\n",
    "        else:\n",
    "            nextNode = True\n",
    "        \n",
    "        print(nextNode)\n",
    "\n",
    "    # Find closest node\n",
    "    x1 = np.array([rn_x, rn_y, rn_z])\n",
    "    dist_storage = []\n",
    "    for i in range(counter):\n",
    "        node_name_to_check = 'x'+str(i)\n",
    "        dx = x1 - Tree[node_name_to_check]['Position']\n",
    "        dist = np.sqrt((dx[0])**2 + (dx[1])**2 + (dx[2])**2)\n",
    "        dist_storage.append(dist)\n",
    "    min_dist_ind = np.where(dist_storage == min(dist_storage))\n",
    "    prev_node_name = 'x'+str(min_dist_ind[0][0])\n",
    "    print(prev_node_name)\n",
    "\n",
    "    # Log Child Node\n",
    "    curr_node_name = 'x'+str(counter)\n",
    "    Tree[prev_node_name]['Child'] = curr_node_name\n",
    "    Tree[curr_node_name] = {}\n",
    "    Tree[curr_node_name]['Parent'] = prev_node_name\n",
    "    Tree[curr_node_name]['Position'] = x1\n",
    "    Tree[curr_node_name]['Time'] = Tree[prev_node_name]['Time'] + rn_t\n",
    "    Tree[curr_node_name]['Time Cost'] = Tree[prev_node_name]['Time Cost'] + rn_t\n",
    "    Tree[curr_node_name]['Dist Cost'] = Tree[prev_node_name]['Dist Cost'] + R\n",
    "\n",
    "    print(Tree)\n",
    "\n",
    "    xprev = x1\n",
    "    asdfasdf"
   ]
  }
 ],
 "metadata": {
  "kernelspec": {
   "display_name": "cognis-uam-ZxmAzDEG-py3.10",
   "language": "python",
   "name": "python3"
  },
  "language_info": {
   "codemirror_mode": {
    "name": "ipython",
    "version": 3
   },
   "file_extension": ".py",
   "mimetype": "text/x-python",
   "name": "python",
   "nbconvert_exporter": "python",
   "pygments_lexer": "ipython3",
   "version": "3.10.12"
  },
  "orig_nbformat": 4
 },
 "nbformat": 4,
 "nbformat_minor": 2
}
