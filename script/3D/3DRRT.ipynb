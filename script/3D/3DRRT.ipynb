{
 "cells": [
  {
   "cell_type": "code",
   "execution_count": 1,
   "metadata": {},
   "outputs": [],
   "source": [
    "import numpy as np\n",
    "import random as rn\n",
    "import matplotlib.pyplot as plt\n",
    "from shapely.geometry import Point\n",
    "from shapely.geometry.polygon import Polygon"
   ]
  },
  {
   "cell_type": "code",
   "execution_count": 2,
   "metadata": {},
   "outputs": [],
   "source": [
    "# Map\n",
    "map_size = np.array([0, 10, 0, 10, 0, 10]) # min, max\n",
    "\n",
    "# Building 0\n",
    "building0 = {}\n",
    "building0['Polygon'] = [(0,4), (4,4), (4,6), (0,6)]\n",
    "building0['height'] = 8\n",
    "\n",
    "# Building 1\n",
    "building1 = {}\n",
    "building1['Polygon'] = [(6,4), (10,4), (10,6), (6,6)]\n",
    "building1['height'] = 8\n",
    "\n",
    "building = {}\n",
    "building['nb'] = 2\n",
    "building['0'] = building0\n",
    "building['1'] = building1"
   ]
  },
  {
   "cell_type": "code",
   "execution_count": 3,
   "metadata": {},
   "outputs": [],
   "source": [
    "# Start, Goal\n",
    "x0 = np.array([1, 1, 3])\n",
    "xf = np.array([9, 9, 7])\n",
    "tol = 0.25\n",
    "trange = 5"
   ]
  },
  {
   "cell_type": "code",
   "execution_count": 4,
   "metadata": {},
   "outputs": [],
   "source": [
    "# Other Settings\n",
    "K = 1 # number of verticies\n",
    "dQ = 2.5 # Incremental Distance"
   ]
  },
  {
   "cell_type": "code",
   "execution_count": 5,
   "metadata": {},
   "outputs": [],
   "source": [
    "def rand_conf(rnt):\n",
    "    # Random\n",
    "    r = rn.uniform(0, rnt*dQ)\n",
    "    theta = rn.uniform(0, 2*np.pi)\n",
    "    psi = rn.uniform(0, 2*np.pi)\n",
    "\n",
    "    x = r*np.cos(psi)*np.cos(theta)\n",
    "    y = r*np.cos(psi)*np.sin(theta)\n",
    "    z = r*np.sin(psi)\n",
    "\n",
    "    return np.array([x, y, z])"
   ]
  },
  {
   "cell_type": "code",
   "execution_count": 6,
   "metadata": {},
   "outputs": [],
   "source": [
    "def nearest_vertex(qrand, G):\n",
    "    num_node = len(G['node'])\n",
    "    dist_vec = []\n",
    "    for i in range(num_node):\n",
    "        qcheck = G['node'][i]\n",
    "        dq = qrand-qcheck\n",
    "        dist_vec.append(np.sqrt((dq[0])**2+(dq[1])**2+(dq[2])**2))\n",
    "    nearest = dist_vec.index(min(dist_vec))\n",
    "    return G['node'][nearest]"
   ]
  },
  {
   "cell_type": "code",
   "execution_count": 7,
   "metadata": {},
   "outputs": [],
   "source": [
    "def new_conf(qnear, qrand, dQ):\n",
    "    # get normal direction vector\n",
    "    dist = qrand - qnear\n",
    "    norm = np.sqrt(dist[0]**2 + dist[1]**2 + dist[2]**2)\n",
    "    direction = dist / norm\n",
    "    return qnear + direction*dQ"
   ]
  },
  {
   "cell_type": "code",
   "execution_count": 8,
   "metadata": {},
   "outputs": [],
   "source": [
    "def inside_map(qrand):\n",
    "    if qrand[0] >= map_size[0] and qrand[0] <= map_size[1] and qrand[1] >= map_size[2] and qrand[1] <= map_size[3] and qrand[2] >= map_size[4] and qrand[2] <= map_size[5]:\n",
    "        return True\n",
    "    else:\n",
    "        return False "
   ]
  },
  {
   "cell_type": "code",
   "execution_count": 9,
   "metadata": {},
   "outputs": [],
   "source": [
    "def outside_building(qrand, building):\n",
    "    qrandxy = Point(qrand[0:2])\n",
    "\n",
    "    check_vec = []\n",
    "\n",
    "    for nb in range(building['nb']):\n",
    "        building_polygon = Polygon(building[str(nb)]['Polygon'])\n",
    "        building_height = building[str(nb)]['height']\n",
    "    \n",
    "        if not building_polygon.contains(qrandxy) and qrand[2] >= 0 and qrand[2] <= building_height:\n",
    "            check_vec.append(1)\n",
    "        else:\n",
    "            check_vec.append(0)\n",
    "\n",
    "    if np.sum(check_vec) == building['nb']:\n",
    "        return True\n",
    "    else:\n",
    "        return False"
   ]
  },
  {
   "cell_type": "code",
   "execution_count": 10,
   "metadata": {},
   "outputs": [
    {
     "name": "stdout",
     "output_type": "stream",
     "text": [
      "Random\n",
      "Random\n"
     ]
    }
   ],
   "source": [
    "# RRT\n",
    "G = {}\n",
    "G['node'] = []\n",
    "G['node'].append(x0)\n",
    "G['edge'] = []\n",
    "\n",
    "qprev = x0\n",
    "\n",
    "for k in range(K):\n",
    "    # Sample Time\n",
    "    rnt = rn.uniform(0, trange)\n",
    "\n",
    "    next = True\n",
    "    while next:\n",
    "        # Sample new\n",
    "        weight_vec = np.array([0.9, 0.1])\n",
    "        weight = rn.uniform(0, 1)\n",
    "\n",
    "        if weight >= 0 and weight <= weight_vec[0]:\n",
    "            print('Random')\n",
    "            qrand = rand_conf(rnt)\n",
    "        elif weight >= weight_vec[0] and weight <= (weight_vec[0] + weight_vec[1]):\n",
    "            print('Final')\n",
    "            # To Final Point\n",
    "            dq = qprev - xf\n",
    "            norm = np.sqrt(dq[0]**2 + dq[1]**2 + dq[2]**2)\n",
    "            direc = dq/norm*dQ*rnt\n",
    "            qrand = qprev + direc\n",
    "        \n",
    "        if inside_map(qrand) == True:\n",
    "            if outside_building(qrand, building):\n",
    "                next = False\n",
    "                break\n",
    "\n",
    "    qnear = nearest_vertex(qrand, G)\n",
    "    qnew = new_conf(qnear, qrand, dQ)\n",
    "    G['node'].append(qnew)\n",
    "    G['edge'].append((qnear, qnew))\n",
    "    qprev = qnew\n",
    "    \n",
    "    # Check if final point reached\n",
    "    dq = qnew - xf\n",
    "    dist = np.sqrt(dq[0]**2+dq[1]**2+dq[2]**2)\n",
    "    #print(dist)\n",
    "    if dist <= tol:\n",
    "        print('Destination Reached')\n",
    "        break"
   ]
  },
  {
   "cell_type": "code",
   "execution_count": 11,
   "metadata": {},
   "outputs": [],
   "source": [
    "from mpl_toolkits import mplot3d\n",
    "from mpl_toolkits.mplot3d import Axes3D\n",
    "from mpl_toolkits.mplot3d.art3d import Poly3DCollection"
   ]
  },
  {
   "cell_type": "code",
   "execution_count": 12,
   "metadata": {},
   "outputs": [
    {
     "ename": "IndexError",
     "evalue": "list index out of range",
     "output_type": "error",
     "traceback": [
      "\u001b[0;31m---------------------------------------------------------------------------\u001b[0m",
      "\u001b[0;31mIndexError\u001b[0m                                Traceback (most recent call last)",
      "Cell \u001b[0;32mIn[12], line 16\u001b[0m\n\u001b[1;32m     14\u001b[0m     bz\u001b[39m.\u001b[39mappend(building[\u001b[39mstr\u001b[39m(nb)][\u001b[39m'\u001b[39m\u001b[39mheight\u001b[39m\u001b[39m'\u001b[39m])\n\u001b[1;32m     15\u001b[0m \u001b[39melse\u001b[39;00m:\n\u001b[0;32m---> 16\u001b[0m     bx\u001b[39m.\u001b[39mappend(b[i][\u001b[39m0\u001b[39m])\n\u001b[1;32m     17\u001b[0m     by\u001b[39m.\u001b[39mappend(b[i][\u001b[39m1\u001b[39m])\n\u001b[1;32m     18\u001b[0m     bz\u001b[39m.\u001b[39mappend(\u001b[39m0\u001b[39m)\n",
      "\u001b[0;31mIndexError\u001b[0m: list index out of range"
     ]
    },
    {
     "data": {
      "text/plain": [
       "<Figure size 640x480 with 0 Axes>"
      ]
     },
     "metadata": {},
     "output_type": "display_data"
    }
   ],
   "source": [
    "fig = plt.figure()\n",
    "#ax = plt.axes(projection='3d')\n",
    "ax = Axes3D(fig)\n",
    "\n",
    "for nb in range(building['nb']):\n",
    "    b = building[str(nb)]['Polygon']\n",
    "    bx = []\n",
    "    by = []\n",
    "    bz = []\n",
    "    for i in range(len(b)*2):\n",
    "        if i < len(b):\n",
    "            bx.append(b[i][0])\n",
    "            by.append(b[i][1])\n",
    "            bz.append(building[str(nb)]['height'])\n",
    "        else:\n",
    "            bx.append(b[i][0])\n",
    "            by.append(b[i][1])\n",
    "            bz.append(0)\n",
    "    print(bx, by, bz)\n",
    "    verts = [zip(bx, by, bz)]\n",
    "    ax.add_collection3d(Poly3DCollection(verts))\n",
    "\n",
    "for kk in range(len(G['node'])):\n",
    "    qcurr = G['node'][kk]\n",
    "    ax.plot3D(qcurr[0], qcurr[1], qcurr[2], '.k')\n",
    "\n",
    "ax.plot3D(x0[0], x0[1], x0[2], '.r')\n",
    "ax.plot3D(xf[0], xf[1], xf[2], '.b')"
   ]
  }
 ],
 "metadata": {
  "kernelspec": {
   "display_name": "cognis-uam-ZxmAzDEG-py3.10",
   "language": "python",
   "name": "python3"
  },
  "language_info": {
   "codemirror_mode": {
    "name": "ipython",
    "version": 3
   },
   "file_extension": ".py",
   "mimetype": "text/x-python",
   "name": "python",
   "nbconvert_exporter": "python",
   "pygments_lexer": "ipython3",
   "version": "3.10.12"
  },
  "orig_nbformat": 4
 },
 "nbformat": 4,
 "nbformat_minor": 2
}
