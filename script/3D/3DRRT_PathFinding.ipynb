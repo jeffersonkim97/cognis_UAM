{
 "cells": [
  {
   "cell_type": "code",
   "execution_count": 9,
   "metadata": {},
   "outputs": [],
   "source": [
    "import numpy as np\n",
    "import numpy.random as rn"
   ]
  },
  {
   "cell_type": "code",
   "execution_count": 10,
   "metadata": {},
   "outputs": [],
   "source": [
    "Vdata = open('Vertex.txt', 'r')\n",
    "V = Vdata.read()\n",
    "\n",
    "Edata = open('Edge.txt', 'r')\n",
    "E = Edata.read()\n",
    "\n",
    "Cdata = open('Edge.txt', 'r')\n",
    "Cost = Cdata.read()\n",
    "\n",
    "Tdata = open('Time.txt', 'r')\n",
    "T = Tdata.read()\n",
    "\n",
    "Pdata = open('Parent.txt', 'r')\n",
    "Parent = Pdata.read()"
   ]
  },
  {
   "cell_type": "code",
   "execution_count": null,
   "metadata": {},
   "outputs": [],
   "source": [
    "# Find possible neighbors\n",
    "\n",
    "neighbor_vec = []\n",
    "\n",
    "dist_vec = []\n",
    "node_index_vec = []\n",
    "for i in range(len(G['node'])):\n",
    "    if not G['node'][i][0] == qnew[0] and not G['node'][i][1] == qnew[1] and not G['node'][i][2] == qnew[2]:\n",
    "        dist_vec.append(distance(qnew, G['node'][i]))\n",
    "        node_index_vec.append(i)\n",
    "\n",
    "for j in range(len(dist_vec)):\n",
    "    if dist_vec[j] <= radius:\n",
    "        neighbor_vec.append(node_index_vec[j])\n",
    "\n",
    "print(dist_vec)\n",
    "print(min(dist_vec))\n",
    "min_index = dist_vec.index(min(dist_vec))\n",
    "print(min_index)\n",
    "print(dist_vec[min_index])\n",
    "print(qnew)\n",
    "print(G['node'][node_index_vec[min_index]])\n",
    "print(distance(qnew, G['node'][node_index_vec[min_index]]))\n",
    "print(neighbor_vec)\n",
    "print(distance(qnew, G['node'][neighbor_vec[0]]))\n",
    "\n",
    "# There are close neighbors\n",
    "if len(neighbor_vec) > 0:\n",
    "    distance_vec = []\n",
    "    for k in range(len(neighbor_vec)):\n",
    "        distance_vec.append(distance(qnew, G['node'][neighbor_vec[k]]))\n",
    "    print(distance_vec)\n",
    "    best_index = distance_vec.index(np.min(distance_vec))\n",
    "\n",
    "    print(best_index)\n",
    "\n",
    "    print(G['node'][neighbor_vec[best_index]], neighbor_vec)\n",
    "    print(distance(qnew, G['node'][neighbor_vec[best_index]]))"
   ]
  }
 ],
 "metadata": {
  "kernelspec": {
   "display_name": "cognis-uam-ZxmAzDEG-py3.10",
   "language": "python",
   "name": "python3"
  },
  "language_info": {
   "codemirror_mode": {
    "name": "ipython",
    "version": 3
   },
   "file_extension": ".py",
   "mimetype": "text/x-python",
   "name": "python",
   "nbconvert_exporter": "python",
   "pygments_lexer": "ipython3",
   "version": "3.10.12"
  },
  "orig_nbformat": 4
 },
 "nbformat": 4,
 "nbformat_minor": 2
}
