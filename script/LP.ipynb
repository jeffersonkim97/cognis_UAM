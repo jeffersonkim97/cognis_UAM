{
 "cells": [
  {
   "cell_type": "code",
   "execution_count": 1,
   "metadata": {},
   "outputs": [
    {
     "ename": "ModuleNotFoundError",
     "evalue": "No module named 'pulp'",
     "output_type": "error",
     "traceback": [
      "\u001b[0;31m---------------------------------------------------------------------------\u001b[0m",
      "\u001b[0;31mModuleNotFoundError\u001b[0m                       Traceback (most recent call last)",
      "\u001b[1;32m/home/jeff/git/ros2_ws/src/cognis_UAM/script/LP.ipynb Cell 1\u001b[0m line \u001b[0;36m1\n\u001b[0;32m----> <a href='vscode-notebook-cell:/home/jeff/git/ros2_ws/src/cognis_UAM/script/LP.ipynb#W0sZmlsZQ%3D%3D?line=0'>1</a>\u001b[0m \u001b[39mimport\u001b[39;00m \u001b[39mpulp\u001b[39;00m \u001b[39mas\u001b[39;00m \u001b[39mp\u001b[39;00m\n\u001b[1;32m      <a href='vscode-notebook-cell:/home/jeff/git/ros2_ws/src/cognis_UAM/script/LP.ipynb#W0sZmlsZQ%3D%3D?line=2'>3</a>\u001b[0m \u001b[39m# Create a LP Minimization problem\u001b[39;00m\n\u001b[1;32m      <a href='vscode-notebook-cell:/home/jeff/git/ros2_ws/src/cognis_UAM/script/LP.ipynb#W0sZmlsZQ%3D%3D?line=3'>4</a>\u001b[0m Lp_prob \u001b[39m=\u001b[39m p\u001b[39m.\u001b[39mLpProblem(\u001b[39m'\u001b[39m\u001b[39mProblem\u001b[39m\u001b[39m'\u001b[39m, p\u001b[39m.\u001b[39mLpMinimize) \n",
      "\u001b[0;31mModuleNotFoundError\u001b[0m: No module named 'pulp'"
     ]
    }
   ],
   "source": [
    "import pulp as p\n",
    "\n",
    "# Create a LP Minimization problem\n",
    "Lp_prob = p.LpProblem('Problem', p.LpMinimize) \n",
    "  \n",
    "# Create problem Variables \n",
    "x = p.LpVariable(\"x\", lowBound = 0)   # Create a variable x >= 0\n",
    "y = p.LpVariable(\"y\", lowBound = 0)   # Create a variable y >= 0\n",
    "  \n",
    "# Objective Function\n",
    "Lp_prob += 3 * x + 5 * y   \n",
    "  \n",
    "# Constraints:\n",
    "Lp_prob += 2 * x + 3 * y >= 12\n",
    "Lp_prob += -x + y <= 3\n",
    "Lp_prob += x >= 4\n",
    "Lp_prob += y <= 3\n",
    "  \n",
    "# Display the problem\n",
    "print(Lp_prob)\n",
    "  \n",
    "status = Lp_prob.solve()   # Solver"
   ]
  }
 ],
 "metadata": {
  "kernelspec": {
   "display_name": "cognis-uam-ZxmAzDEG-py3.10",
   "language": "python",
   "name": "python3"
  },
  "language_info": {
   "codemirror_mode": {
    "name": "ipython",
    "version": 3
   },
   "file_extension": ".py",
   "mimetype": "text/x-python",
   "name": "python",
   "nbconvert_exporter": "python",
   "pygments_lexer": "ipython3",
   "version": "3.10.12"
  },
  "orig_nbformat": 4
 },
 "nbformat": 4,
 "nbformat_minor": 2
}
