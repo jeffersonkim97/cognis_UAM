{
 "cells": [
  {
   "cell_type": "code",
   "execution_count": 1,
   "metadata": {},
   "outputs": [],
   "source": [
    "import numpy as np\n",
    "import random as rn\n",
    "import matplotlib.pylab as plt\n",
    "from operator import itemgetter\n",
    "import time\n",
    "import sys"
   ]
  },
  {
   "cell_type": "code",
   "execution_count": 2,
   "metadata": {},
   "outputs": [],
   "source": [
    "def gen_points(n, x, y):\n",
    "    plist = []\n",
    "    for i in range(n):\n",
    "        plist.append([rn.randint(0,x), rn.randint(0,y)])\n",
    "    return plist"
   ]
  },
  {
   "cell_type": "code",
   "execution_count": 3,
   "metadata": {},
   "outputs": [],
   "source": [
    "num_data = 5\n",
    "xmax = 100\n",
    "ymax = 100\n",
    "\n",
    "random_points = gen_points(num_data, xmax, ymax)\n",
    "# random_points = [[1, 6], [1, 8], [3, 0], [5, 2], [7, 4]]"
   ]
  },
  {
   "cell_type": "code",
   "execution_count": 4,
   "metadata": {},
   "outputs": [
    {
     "ename": "NameError",
     "evalue": "name 'asdfasfasf' is not defined",
     "output_type": "error",
     "traceback": [
      "\u001b[0;31m---------------------------------------------------------------------------\u001b[0m",
      "\u001b[0;31mNameError\u001b[0m                                 Traceback (most recent call last)",
      "Cell \u001b[0;32mIn[4], line 1\u001b[0m\n\u001b[0;32m----> 1\u001b[0m \u001b[43masdfasfasf\u001b[49m\n",
      "\u001b[0;31mNameError\u001b[0m: name 'asdfasfasf' is not defined"
     ]
    }
   ],
   "source": [
    "asdfasfasf"
   ]
  },
  {
   "cell_type": "code",
   "execution_count": 5,
   "metadata": {},
   "outputs": [
    {
     "name": "stdout",
     "output_type": "stream",
     "text": [
      "[[98, 10], [96, 10], [49, 70], [0, 24], [13, 26]]\n"
     ]
    }
   ],
   "source": [
    "print(random_points)"
   ]
  },
  {
   "cell_type": "code",
   "execution_count": 11,
   "metadata": {},
   "outputs": [
    {
     "name": "stdout",
     "output_type": "stream",
     "text": [
      "(16.278820596099706, 4)\n"
     ]
    }
   ],
   "source": [
    "import scipy.spatial as sp\n",
    "\n",
    "kek = sp.KDTree(random_points)\n",
    "print(kek.query([10, 10]))"
   ]
  },
  {
   "cell_type": "code",
   "execution_count": null,
   "metadata": {},
   "outputs": [],
   "source": [
    "class Node():\n",
    "    def __init__(self, axis, value, point=None, leftChild=None, rightChild=None):\n",
    "        self.axis = axis                # Splitting Axis\n",
    "        self.value = value              # Median Value\n",
    "        self.point = point              # Holds a point if left/right are null\n",
    "        self.left = leftChild           # Left subtree\n",
    "        self.right = rightChild          # Right subtree"
   ]
  },
  {
   "cell_type": "code",
   "execution_count": null,
   "metadata": {},
   "outputs": [],
   "source": [
    "def kdtree(points, depth=0):\n",
    "    if not points:\n",
    "        return None\n",
    "    \n",
    "    k = len(points[0])\n",
    "    axis = np.mod(depth, k)\n",
    "\n",
    "    points.sort(key=itemgetter(axis))\n",
    "    median = len(points) // 2\n",
    "    value = points[median][axis]\n",
    "    # if np.mod(len(points), 2) == 0 or len(points) == 1:\n",
    "    #     median = len(points) // 2\n",
    "    # else:\n",
    "    #     median = (len(points)//2) + 1\n",
    "    # print(len(points), median)\n",
    "\n",
    "    if len(points[:median])==0 and len(points[median+1:])==0:\n",
    "        # print(axis, points[median][axis], points[median])\n",
    "        return Node(axis, value, leftChild=None, rightChild=None, point=points[median])\n",
    "    else:\n",
    "        return Node(axis, value, leftChild=kdtree(points[:median], depth+1), rightChild=kdtree(points[median+1:], depth+1), point=points[median])"
   ]
  },
  {
   "cell_type": "code",
   "execution_count": null,
   "metadata": {},
   "outputs": [
    {
     "name": "stdout",
     "output_type": "stream",
     "text": [
      "[[44, 41], [91, 70], [5, 64], [13, 15], [12, 17], [21, 40], [62, 80], [98, 14], [48, 78], [100, 82], [3, 58], [83, 60], [78, 76], [59, 35], [44, 26], [9, 83], [57, 39], [88, 16], [37, 16], [24, 66], [19, 100], [71, 67], [59, 87], [43, 55], [16, 37], [16, 65], [34, 8], [33, 15], [74, 66], [24, 71], [21, 29], [81, 19], [86, 48], [32, 44], [81, 11], [41, 76], [100, 35], [4, 24], [82, 95], [29, 41], [94, 49], [97, 81], [0, 57], [65, 91], [20, 18], [40, 4], [47, 29], [98, 16], [62, 13], [54, 30]]\n"
     ]
    }
   ],
   "source": [
    "print(random_points)"
   ]
  },
  {
   "cell_type": "code",
   "execution_count": null,
   "metadata": {},
   "outputs": [],
   "source": [
    "root = kdtree(random_points)"
   ]
  },
  {
   "cell_type": "code",
   "execution_count": null,
   "metadata": {},
   "outputs": [],
   "source": [
    "refPoint = random_points[-1]\n",
    "refDist = 1e1000"
   ]
  },
  {
   "cell_type": "code",
   "execution_count": null,
   "metadata": {},
   "outputs": [],
   "source": [
    "# Query Point\n",
    "query = [1, 4]"
   ]
  },
  {
   "cell_type": "code",
   "execution_count": null,
   "metadata": {},
   "outputs": [],
   "source": [
    "def distance(A, B):\n",
    "    return np.sqrt((A[0]-B[0])**2+(A[1]-B[1])**2)"
   ]
  },
  {
   "cell_type": "code",
   "execution_count": null,
   "metadata": {},
   "outputs": [],
   "source": [
    "def bruteForce(q, random_points):\n",
    "    distVec = []\n",
    "    for i in range(len(random_points)):\n",
    "        distVec.append(np.sqrt((q[0]-random_points[i][0])**2+(q[1]-random_points[i][1])**2))\n",
    "    minDistInd = distVec.index(np.min(distVec))\n",
    "    return distVec[minDistInd], random_points[minDistInd]"
   ]
  },
  {
   "cell_type": "code",
   "execution_count": null,
   "metadata": {},
   "outputs": [],
   "source": [
    "def NNS(q, n, p, w):\n",
    "    # q: Query Point (Point of Interest)\n",
    "    # n: kd tree\n",
    "    # p: Reference Point\n",
    "    # w: Reference Distance\n",
    "    if n.left is None and n.right is None:\n",
    "        dist = distance(q, n.point)\n",
    "        if dist < w:\n",
    "            w = dist\n",
    "            p = n.point\n",
    "        return w, p\n",
    "    else:\n",
    "        if q[n.axis] <= n.value:\n",
    "            search_left = True\n",
    "        else:\n",
    "            search_left = False\n",
    "        \n",
    "        # print(n.axis, q[n.axis], n.value)\n",
    "        # print(search_left)\n",
    "        \n",
    "        if search_left:\n",
    "                return NNS(q, n.left, p, w)\n",
    "        else:\n",
    "            print(q[n.axis]-refDist > n.value)\n",
    "            return NNS(q, n.right, p, w)\n",
    "            \n",
    "# nearDist, nearPoint = NNS(q=query, n=root, p=refPoint, w=refDist)\n",
    "# print(nearDist, nearPoint)"
   ]
  },
  {
   "cell_type": "code",
   "execution_count": null,
   "metadata": {},
   "outputs": [
    {
     "name": "stdout",
     "output_type": "stream",
     "text": [
      "17.029386365926403 [12, 17]\n",
      "(16.278820596099706, [13, 15])\n",
      "17.029386365926403 16.278820596099706\n"
     ]
    }
   ],
   "source": [
    "start = time.time()\n",
    "nearDist, nearPoint = NNS(q=query, n=root, p=refPoint, w=refDist)\n",
    "print(nearDist, nearPoint)\n",
    "\n",
    "# Brute Force\n",
    "nearDist_BF, nearPoint_BF = bruteForce(query, random_points)\n",
    "print(bruteForce(query, random_points))\n",
    "\n",
    "print(distance(nearPoint, query), distance(nearPoint_BF, query))"
   ]
  },
  {
   "cell_type": "code",
   "execution_count": null,
   "metadata": {},
   "outputs": [
    {
     "data": {
      "text/plain": [
       "(-5.0, 105.0, -0.8000000000000007, 109.2)"
      ]
     },
     "execution_count": 15,
     "metadata": {},
     "output_type": "execute_result"
    },
    {
     "data": {
      "image/png": "[encoded data removed]",
      "text/plain": [
       "<Figure size 960x720 with 1 Axes>"
      ]
     },
     "metadata": {},
     "output_type": "display_data"
    }
   ],
   "source": [
    "fig = plt.figure(dpi=150)\n",
    "for rpi in random_points:\n",
    "    plt.plot(rpi[0], rpi[1], 'kx')\n",
    "plt.plot(query[0], query[1], 'or')\n",
    "plt.plot(nearPoint[0], nearPoint[1], 'ob', alpha=0.75)\n",
    "plt.scatter(nearPoint_BF[0], nearPoint_BF[1], s=80, facecolors='none', edgecolors='m')\n",
    "plt.axis('square')"
   ]
  },
  {
   "cell_type": "code",
   "execution_count": null,
   "metadata": {},
   "outputs": [
    {
     "ename": "NameError",
     "evalue": "name 'asdfasdfasfasfd' is not defined",
     "output_type": "error",
     "traceback": [
      "\u001b[0;31m---------------------------------------------------------------------------\u001b[0m",
      "\u001b[0;31mNameError\u001b[0m                                 Traceback (most recent call last)",
      "Cell \u001b[0;32mIn[16], line 1\u001b[0m\n\u001b[0;32m----> 1\u001b[0m \u001b[43masdfasdfasfasfd\u001b[49m\n",
      "\u001b[0;31mNameError\u001b[0m: name 'asdfasdfasfasfd' is not defined"
     ]
    }
   ],
   "source": [
    "asdfasdfasfasfd"
   ]
  },
  {
   "cell_type": "code",
   "execution_count": null,
   "metadata": {},
   "outputs": [],
   "source": [
    "nSampleList = [5, 10, 15, 20, 30, 40, 50, 60, 70, 80, 90, 1e2, 5e2, 1e3, 5e3, 1e4]\n",
    "compTimeDict_NNS = {}\n",
    "compTimeDict_BF = {}\n",
    "for i in range(len(nSampleList)):\n",
    "    currSampleNumber = nSampleList[i]\n",
    "    xmax = 1000\n",
    "    ymax = 1000\n",
    "    random_points = gen_points(currSampleNumber, xmax, ymax)\n",
    "\n",
    "    compTimeDict_NNS[str(i)] = []\n",
    "    compTimeDict_BF[str(i)] = []\n",
    "    for j in range(1e3):\n",
    "        print(currSampleNumber+str(j))\n",
    "        start=time.time()\n",
    "        nearDist, nearPoint = NNS(q=query, n=root, p=refPoint, w=refDist)\n",
    "        compTimeDict_NNS[str(i)].append(time.time()-start)\n",
    "\n",
    "        start=time.time()\n",
    "        nearDist, nearPoint = bruteForce(q=query, random_points=random_points)\n",
    "        compTimeDict_BF[str(i)].append(time.time()-start)"
   ]
  }
 ],
 "metadata": {
  "kernelspec": {
   "display_name": "cognis-uam-ZxmAzDEG-py3.10",
   "language": "python",
   "name": "python3"
  },
  "language_info": {
   "codemirror_mode": {
    "name": "ipython",
    "version": 3
   },
   "file_extension": ".py",
   "mimetype": "text/x-python",
   "name": "python",
   "nbconvert_exporter": "python",
   "pygments_lexer": "ipython3",
   "version": "3.10.12"
  }
 },
 "nbformat": 4,
 "nbformat_minor": 2
}
