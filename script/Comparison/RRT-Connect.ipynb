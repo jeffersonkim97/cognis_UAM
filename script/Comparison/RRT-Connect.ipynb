{
 "cells": [
  {
   "cell_type": "code",
   "execution_count": 47,
   "metadata": {},
   "outputs": [],
   "source": [
    "import numpy as np\n",
    "import random as rn\n",
    "import matplotlib.pyplot as plt\n",
    "from matplotlib.patches import Rectangle\n",
    "import matplotlib.patches as Patches"
   ]
  },
  {
   "cell_type": "code",
   "execution_count": 98,
   "metadata": {},
   "outputs": [],
   "source": [
    "x0 = [1,1]\n",
    "xf = [9,9]\n",
    "map_size = [10, 10]\n",
    "K = 100\n",
    "step = 1\n",
    "\n",
    "obs1 = Rectangle((3, 0), 4, 4, facecolor = 'red', fill=True)\n",
    "obs2 = Rectangle((3, 4), 2, 2, facecolor = 'red', fill=True)\n",
    "obs3 = Rectangle((3, 7), 4, 3, facecolor = 'red', fill=True)\n",
    "obs4 = Rectangle((6, 5), 1, 2, facecolor = 'red', fill=True)\n",
    "obs_vec = [obs1, obs2, obs3, obs4]"
   ]
  },
  {
   "cell_type": "code",
   "execution_count": 45,
   "metadata": {},
   "outputs": [],
   "source": [
    "def random_sample():\n",
    "    xrand = rn.uniform(0, map_size[0])\n",
    "    yrand = rn.uniform(0, map_size[1])\n",
    "    return [xrand, yrand]"
   ]
  },
  {
   "cell_type": "code",
   "execution_count": 69,
   "metadata": {},
   "outputs": [],
   "source": [
    "def validate(qi, obs):\n",
    "    # 1: In obstacle\n",
    "    # 0: Outisde obstacle\n",
    "    if obs.contains_point(qi):\n",
    "        return 1\n",
    "    else:\n",
    "        return 0"
   ]
  },
  {
   "cell_type": "code",
   "execution_count": 87,
   "metadata": {},
   "outputs": [],
   "source": [
    "def distance(a, b):\n",
    "    return np.sqrt((a[0]-b[0])**2 + (a[1]-b[1])**2)"
   ]
  },
  {
   "cell_type": "code",
   "execution_count": 75,
   "metadata": {},
   "outputs": [],
   "source": [
    "def find_neighbor(qrand, V):\n",
    "    distance_vec = []\n",
    "    for Vi in V:\n",
    "        distance_vec.append(distance(qrand, Vi))\n",
    "    \n",
    "    closest = distance_vec.index(min(distance_vec))\n",
    "    return V[closest]"
   ]
  },
  {
   "cell_type": "code",
   "execution_count": 77,
   "metadata": {},
   "outputs": [],
   "source": [
    "def extend(q0, q1):\n",
    "    diff = [q1[0]-q0[0], q1[1]-q0[1]]\n",
    "    norm_vec = diff/np.linalg.norm(diff)\n",
    "    extension = step*[norm_vec[0], norm_vec[1]]\n",
    "    return [q0[0] + extension[0],q0[1] + extension[1]]"
   ]
  },
  {
   "cell_type": "code",
   "execution_count": 89,
   "metadata": {},
   "outputs": [
    {
     "name": "stdout",
     "output_type": "stream",
     "text": [
      "k:  0\n",
      "k:  1\n",
      "k:  2\n",
      "k:  3\n",
      "k:  4\n",
      "k:  5\n",
      "k:  6\n",
      "k:  7\n",
      "k:  8\n",
      "k:  9\n",
      "k:  10\n",
      "k:  11\n",
      "k:  12\n",
      "k:  13\n",
      "k:  14\n",
      "k:  15\n",
      "k:  16\n",
      "k:  17\n",
      "k:  18\n",
      "k:  19\n",
      "k:  20\n",
      "k:  21\n",
      "k:  22\n",
      "k:  23\n",
      "k:  24\n",
      "k:  25\n",
      "k:  26\n",
      "k:  27\n",
      "k:  28\n",
      "k:  29\n",
      "k:  30\n",
      "k:  31\n",
      "k:  32\n",
      "k:  33\n",
      "k:  34\n",
      "k:  35\n",
      "k:  36\n",
      "k:  37\n",
      "k:  38\n",
      "k:  39\n",
      "k:  40\n",
      "k:  41\n"
     ]
    }
   ],
   "source": [
    "k = 0\n",
    "V_RRTCa = []\n",
    "V_RRTCb = []\n",
    "V_RRTCa.append(x0)\n",
    "V_RRTCb.append(xf)\n",
    "\n",
    "E_RRTCa = []\n",
    "E_RRTCb = []\n",
    "\n",
    "while 1:\n",
    "    print('k: ', k)\n",
    "    if np.mod(k, 2) == 0:\n",
    "        V = V_RRTCa\n",
    "        E = E_RRTCa\n",
    "        Vother = V_RRTCb\n",
    "    else:\n",
    "        V = V_RRTCb\n",
    "        E = E_RRTCb\n",
    "        Vother = V_RRTCa\n",
    "    \n",
    "    # Sample\n",
    "    while 1:\n",
    "        qrand = random_sample()\n",
    "\n",
    "        check_vec = []\n",
    "        for obsi in obs_vec:\n",
    "            check_vec.append(validate(qrand, obsi))\n",
    "        # If all sum is 0, valid\n",
    "        if np.sum(check_vec) == 0:\n",
    "            qneighbor = find_neighbor(qrand, V)\n",
    "            qnew = extend(qneighbor, qrand)\n",
    "            break\n",
    "    \n",
    "    # Add to V, E\n",
    "    V.append(qnew)\n",
    "    E.append([qneighbor, qnew])\n",
    "    k += 1\n",
    "\n",
    "    # Check distance\n",
    "    dist_check = []\n",
    "    if np.abs(distance(V[-1], Vother[-1])) <= step:\n",
    "        dist_check.append(1)\n",
    "    else:\n",
    "        dist_check.append(0)\n",
    "    if np.sum(dist_check) > 0 or k > K:\n",
    "        E.append([V[-1], Vother[-1]])\n",
    "        break"
   ]
  },
  {
   "cell_type": "code",
   "execution_count": 104,
   "metadata": {},
   "outputs": [
    {
     "data": {
      "text/plain": [
       "(0.0, 10.0)"
      ]
     },
     "execution_count": 104,
     "metadata": {},
     "output_type": "execute_result"
    },
    {
     "data": {
      "image/png": "[encoded data removed]",
      "text/plain": [
       "<Figure size 640x480 with 1 Axes>"
      ]
     },
     "metadata": {},
     "output_type": "display_data"
    }
   ],
   "source": [
    "fig = plt.figure()\n",
    "ax = fig.subplots()\n",
    "\n",
    "# Obstacle\n",
    "\"\"\"obs1 = Rectangle((3, 0), 4, 4, facecolor = 'red', fill=True)\n",
    "obs2 = Rectangle((3, 4), 2, 2, facecolor = 'red', fill=True)\n",
    "obs3 = Rectangle((3, 7), 4, 3, facecolor = 'red', fill=True)\n",
    "obs4 = Rectangle((6, 5), 1, 2, facecolor = 'red', fill=True)\n",
    "ax.add_patch(obs1)\n",
    "ax.add_patch(obs2)\n",
    "ax.add_patch(obs3)\n",
    "ax.add_patch(obs4)\"\"\"\n",
    "\n",
    "# Plot Path\n",
    "for Va in V_RRTCa:\n",
    "    plt.plot(Va[0], Va[1], '.b')\n",
    "for Vb in V_RRTCb:\n",
    "    plt.plot(Vb[0], Vb[1], '.g')\n",
    "for Ea in E_RRTCa:\n",
    "    plt.plot([Ea[0][0], Ea[1][0]], [Ea[0][1], Ea[1][1]], '-b')\n",
    "for Eb in E_RRTCb:\n",
    "    plt.plot([Eb[0][0], Eb[1][0]], [Eb[0][1], Eb[1][1]], '-g')\n",
    "\n",
    "# Points\n",
    "plt.plot(x0[0], x0[1], 'sb')\n",
    "plt.plot(xf[0], xf[1], 'sg')\n",
    "\n",
    "# Map Limit\n",
    "plt.xlim(0, map_size[0])\n",
    "plt.ylim(0, map_size[1])"
   ]
  }
 ],
 "metadata": {
  "kernelspec": {
   "display_name": "cognis-uam-ZxmAzDEG-py3.10",
   "language": "python",
   "name": "python3"
  },
  "language_info": {
   "codemirror_mode": {
    "name": "ipython",
    "version": 3
   },
   "file_extension": ".py",
   "mimetype": "text/x-python",
   "name": "python",
   "nbconvert_exporter": "python",
   "pygments_lexer": "ipython3",
   "version": "3.10.12"
  },
  "orig_nbformat": 4
 },
 "nbformat": 4,
 "nbformat_minor": 2
}
