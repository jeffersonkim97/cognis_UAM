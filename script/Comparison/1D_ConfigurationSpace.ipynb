{
 "cells": [
  {
   "cell_type": "code",
   "execution_count": 1,
   "metadata": {},
   "outputs": [],
   "source": [
    "import numpy as np\n",
    "import matplotlib.pylab as plt\n",
    "import random as rn\n",
    "import time\n",
    "from scipy.spatial import ConvexHull\n",
    "from matplotlib.patches import Rectangle\n",
    "from matplotlib.path import Path\n",
    "import shapely.geometry\n",
    "import shapely.ops as so"
   ]
  },
  {
   "cell_type": "code",
   "execution_count": 3,
   "metadata": {},
   "outputs": [],
   "source": [
    "def time_block_obstacle(pos_obs, time_obs, repeat_index):\n",
    "    time_translate = repeat_index*(np.sum(time_obs))\n",
    "\n",
    "    point1 = [pos_obs[0], time_obs[0]+time_translate]\n",
    "    point2 = [pos_obs[1], time_obs[0]+time_translate]\n",
    "    point3 = [pos_obs[1], time_obs[0]+time_obs[1]+time_translate]\n",
    "    point4 = [pos_obs[0], time_obs[0]+time_obs[1]+time_translate]\n",
    "\n",
    "    return shapely.geometry.Polygon([point1, point2, point3, point4])"
   ]
  },
  {
   "cell_type": "markdown",
   "metadata": {},
   "source": [
    "Configuration Space A"
   ]
  },
  {
   "cell_type": "code",
   "execution_count": 11,
   "metadata": {},
   "outputs": [],
   "source": [
    "# Position\n",
    "x0 = 0\n",
    "xf = 30\n",
    "xobs = [[5, 7], [10, 11], [15, 16], [23, 25]]\n",
    "prox = [2.5, 2.5] # [x, t]\n",
    "\n",
    "# General RRT Settings\n",
    "K = 1000\n",
    "iter_max = 1000\n",
    "tMax = 20\n",
    "vmax = 2\n",
    "max_time = 5\n",
    "tf = 20\n",
    "\n",
    "# Obstacle Setting\n",
    "# [start, close, open]\n",
    "obs1 = [0, 2.5, 2.5]\n",
    "obs2 = [0, 4, 4]\n",
    "obs3 = [0, 3, 3]\n",
    "obs4 = [0, 8, 2.5]\n",
    "obs_vec = [obs1, obs2, obs3, obs4]"
   ]
  },
  {
   "cell_type": "code",
   "execution_count": 12,
   "metadata": {},
   "outputs": [
    {
     "data": {
      "text/plain": [
       "Text(0, 0.5, 't')"
      ]
     },
     "execution_count": 12,
     "metadata": {},
     "output_type": "execute_result"
    },
    {
     "data": {
      "image/png": "[encoded data removed]",
      "text/plain": [
       "<Figure size 640x480 with 1 Axes>"
      ]
     },
     "metadata": {},
     "output_type": "display_data"
    }
   ],
   "source": [
    "fig = plt.figure()\n",
    "ax = fig.subplots()\n",
    "\n",
    "# Obstacle\n",
    "tspace = np.linspace(0, tf+5, 100)\n",
    "for i in range(len(xobs)):\n",
    "    obs_number = int(((tf+5)//np.sum(obs_vec[i]))+1)\n",
    "    for j in range(obs_number):\n",
    "        this_obstacle = time_block_obstacle(xobs[i], obs_vec[i], j)\n",
    "        plt.plot(*this_obstacle.exterior.xy, 'k')\n",
    "\n",
    "# Initial/Final\n",
    "plt.plot([x0, x0], [0, tf+5], 'r-', alpha=0.25)\n",
    "plt.plot([xf, xf], [0, tf+5], 'b-', alpha=0.25)\n",
    "\n",
    "# Plot Limits\n",
    "ax.axis('square')\n",
    "plt.xlim(-10, 40)\n",
    "plt.ylim(0, tf+5)\n",
    "plt.xlabel('X')\n",
    "plt.ylabel('t')"
   ]
  },
  {
   "cell_type": "markdown",
   "metadata": {},
   "source": [
    "Configuration Space B"
   ]
  },
  {
   "cell_type": "code",
   "execution_count": 65,
   "metadata": {},
   "outputs": [
    {
     "name": "stdout",
     "output_type": "stream",
     "text": [
      "xobs:  [[1.198928104871747, 2.8957963805112463], [18.891251352738994, 20.82318772292915], [25.13000347750772, 26.25395027830463], [3.7356878017973347, 5.130688467885224], [11.733301458506238, 13.38304892165738], [10.813669781456358, 12.107829342920011]]\n",
      "obs_vec:  [[0, 7.32055774028567, 2.67944225971433], [0, 8.365554423062276, 1.6344455769377237], [0, 6.5278658685643665, 3.4721341314356335], [0, 3.2779829401524174, 6.722017059847582], [0, 7.589851271623784, 2.4101487283762157], [0, 5.642641646419559, 4.357358353580441]]\n"
     ]
    },
    {
     "data": {
      "text/plain": [
       "Text(0, 0.5, 't')"
      ]
     },
     "execution_count": 65,
     "metadata": {},
     "output_type": "execute_result"
    },
    {
     "data": {
      "image/png": "[encoded data removed]",
      "text/plain": [
       "<Figure size 640x480 with 1 Axes>"
      ]
     },
     "metadata": {},
     "output_type": "display_data"
    }
   ],
   "source": [
    "# Position\n",
    "x0 = 0\n",
    "xf = 30\n",
    "num_obs = rn.randint(5, 10)\n",
    "xobs_thickness = []\n",
    "for i in range(num_obs):\n",
    "    xobs_thickness.append(rn.uniform(0.5,2))\n",
    "xobs = []\n",
    "for i in range(num_obs):\n",
    "    temp = rn.uniform(x0, xf)\n",
    "    xobs.append([temp, temp+xobs_thickness[i]])\n",
    "prox = [2.5, 2.5] # [x, t]\n",
    "\n",
    "print('xobs: ', xobs)\n",
    "\n",
    "# General RRT Settings\n",
    "K = 1000\n",
    "iter_max = 1000\n",
    "tMax = 20\n",
    "vmax = 2\n",
    "max_time = 5\n",
    "\n",
    "# Obstacle Setting\n",
    "# [start, close, open]\n",
    "obs_vec = []\n",
    "max_period = 10\n",
    "for i in range(num_obs):\n",
    "    temp = rn.uniform(0, max_period)\n",
    "    obs_vec.append([0, temp, max_period-temp])\n",
    "print('obs_vec: ', obs_vec)\n",
    "\n",
    "fig = plt.figure()\n",
    "ax = fig.subplots()\n",
    "\n",
    "# Obstacle\n",
    "tspace = np.linspace(0, tf+5, 100)\n",
    "for i in range(len(xobs)):\n",
    "    obs_number = int(((tf+5)//np.sum(obs_vec[i]))+1)\n",
    "    for j in range(obs_number):\n",
    "        this_obstacle = time_block_obstacle(xobs[i], obs_vec[i], j)\n",
    "        plt.plot(*this_obstacle.exterior.xy, 'k')\n",
    "\n",
    "# Initial/Final\n",
    "plt.plot([x0, x0], [0, tf+5], 'r-', alpha=0.25)\n",
    "plt.plot([xf, xf], [0, tf+5], 'b-', alpha=0.25)\n",
    "\n",
    "# Plot Limits\n",
    "ax.axis('square')\n",
    "plt.xlim(x0-10, xf+10)\n",
    "plt.ylim(0, tf+5)\n",
    "plt.xlabel('X')\n",
    "plt.ylabel('t')"
   ]
  }
 ],
 "metadata": {
  "kernelspec": {
   "display_name": "cognis-uam-ZxmAzDEG-py3.10",
   "language": "python",
   "name": "python3"
  },
  "language_info": {
   "codemirror_mode": {
    "name": "ipython",
    "version": 3
   },
   "file_extension": ".py",
   "mimetype": "text/x-python",
   "name": "python",
   "nbconvert_exporter": "python",
   "pygments_lexer": "ipython3",
   "version": "3.10.12"
  }
 },
 "nbformat": 4,
 "nbformat_minor": 2
}
