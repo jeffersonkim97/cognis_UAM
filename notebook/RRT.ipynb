{
 "cells": [
  {
   "cell_type": "code",
   "execution_count": 1,
   "id": "c31fdb96-3cde-401c-806d-d9c44185b3c1",
   "metadata": {},
   "outputs": [],
   "source": [
    "import numpy as np\n",
    "import random as rn\n",
    "import matplotlib.pyplot as plt\n",
    "\n",
    "rn.seed(1)"
   ]
  },
  {
   "cell_type": "code",
   "execution_count": 2,
   "id": "c62224e8-a77b-42df-9050-9346e92ad825",
   "metadata": {
    "tags": []
   },
   "outputs": [],
   "source": [
    "# Generate RRT based on Pseudocode of LaValle 1998 Paper\n",
    "# TODO\n",
    "# 1. How do we connect to dot?\n",
    "# 2. Obstacle Avoidance?\n",
    "# 3. "
   ]
  },
  {
   "cell_type": "code",
   "execution_count": 3,
   "id": "4b75fc05-01cd-45e2-9f92-16626f587f80",
   "metadata": {
    "tags": []
   },
   "outputs": [
    {
     "name": "stdout",
     "output_type": "stream",
     "text": [
      "x0: [0.05 0.05], xf: [0.95 0.95]\n"
     ]
    }
   ],
   "source": [
    "# Build Valid Movement Masking Map\n",
    "# Implemented from Game Theory example\n",
    "# n indicates number of grid cells for n x n grid\n",
    "# Meshgrid X, Y created for n^2 number of cells with x, y values of 0 to xf, yf\n",
    "n = 21\n",
    "x = np.linspace(0, 1, n)\n",
    "y = np.linspace(0, 1, n)\n",
    "X,Y = np.meshgrid(x, y)\n",
    "\n",
    "# Position function converting position index i_x to position x\n",
    "def position(i_x):\n",
    "    return np.array([x[i_x[0]], y[i_x[1]]])\n",
    "\n",
    "# Define Initial, Final position of the aggressor\n",
    "# Position index of aggressor\n",
    "i_x0 = (int(0.05*n), int(0.05*n))\n",
    "i_xf = (int(0.95*n), int(0.95*n))\n",
    "# Position of aggressor\n",
    "x0 = position(i_x0)\n",
    "xf = position(i_xf)\n",
    "print(\"x0: {}, xf: {}\".format(x0, xf))\n",
    "\n",
    "# Building Setup\n",
    "# Set nB number of buildings\n",
    "# building_i indicates 4 corners of the building generated in the field\n",
    "nB = 2\n",
    "building1 = np.array([0, 0.3, 0.25, 0.75])\n",
    "building2 = np.array([0.7, 1, 0.25, 0.75])\n",
    "building = [building1, building2]\n",
    "\n",
    "# Bound within map\n",
    "def bound(i_x):\n",
    "    return (i_x[0] >= 0 and i_x[0]<n and i_x[1] >= 0 and i_x[1]<n)\n",
    "\n",
    "def bound_building(i_x, building):\n",
    "    # building: [x0, x1, y0, y1]\n",
    "    currpos = position(i_x)\n",
    "    bcheck = np.zeros((nB,1))\n",
    "    for b in range(nB):\n",
    "        bnow = building[b]\n",
    "        bcheck[b] = (currpos[0] >= bnow[0] and currpos[0] <= bnow[1] and currpos[1] >= bnow[2] and currpos[1] <= bnow[3])\n",
    "    sumcheck = 0\n",
    "    for b in range(nB):\n",
    "        sumcheck += bcheck[b]\n",
    "    return sumcheck\n",
    "\n",
    "\n",
    "def static_movement_map(X, Y, building):\n",
    "    # Static Movement Map\n",
    "    nH = len(X)\n",
    "    nV = len(X[0])\n",
    "    \n",
    "    # For (x, y) coordinate, check if this is within the field bound while outside of building bound\n",
    "    static_map = np.zeros((nH, nV))\n",
    "    for i in range(len(X)):\n",
    "        for j in range(len(Y)):\n",
    "            # Check if the (i,j) is within field bound\n",
    "            within_bound = bound((i, j))\n",
    "            # check if the (i,j) is outside building bound\n",
    "            within_building = bound_building((i,j), building)\n",
    "            \n",
    "            # If we are within_bound but not in building >> True\n",
    "            # else >> False\n",
    "            static_map[i,j] = within_bound and not within_building\n",
    "    return static_map\n",
    "\n",
    "static_map = static_movement_map(X, Y, building)"
   ]
  },
  {
   "cell_type": "code",
   "execution_count": 31,
   "id": "02a24488-5cd7-40b8-ab4b-f9a8865660b7",
   "metadata": {
    "tags": []
   },
   "outputs": [
    {
     "data": {
      "image/png": "[encoded data removed]",
      "text/plain": [
       "<Figure size 640x480 with 1 Axes>"
      ]
     },
     "metadata": {},
     "output_type": "display_data"
    }
   ],
   "source": [
    "fig = plt.figure()\n",
    "for i in range(len(X)):\n",
    "    for j in range(len(Y)):\n",
    "        if static_map[i,j] == True:\n",
    "            plt.plot(X[j,i], Y[j,i], '.b')"
   ]
  },
  {
   "cell_type": "code",
   "execution_count": 171,
   "id": "4556d621-b3c1-45d8-a9d3-871b040035b5",
   "metadata": {},
   "outputs": [
    {
     "ename": "IndexError",
     "evalue": "list index out of range",
     "output_type": "error",
     "traceback": [
      "\u001b[0;31m---------------------------------------------------------------------------\u001b[0m",
      "\u001b[0;31mIndexError\u001b[0m                                Traceback (most recent call last)",
      "Cell \u001b[0;32mIn[171], line 111\u001b[0m\n\u001b[1;32m    108\u001b[0m dt \u001b[38;5;241m=\u001b[39m \u001b[38;5;241m1\u001b[39m\u001b[38;5;241m/\u001b[39mn\n\u001b[1;32m    109\u001b[0m v \u001b[38;5;241m=\u001b[39m \u001b[38;5;241m0.1\u001b[39m\u001b[38;5;241m*\u001b[39mn\n\u001b[0;32m--> 111\u001b[0m xrand_list, xnew_list, xavail, Tau \u001b[38;5;241m=\u001b[39m \u001b[43mgenerate_RRT\u001b[49m\u001b[43m(\u001b[49m\u001b[43mx0\u001b[49m\u001b[43m,\u001b[49m\u001b[43m \u001b[49m\u001b[43mKstep\u001b[49m\u001b[43m,\u001b[49m\u001b[43m \u001b[49m\u001b[43mdt\u001b[49m\u001b[43m,\u001b[49m\u001b[43m \u001b[49m\u001b[43mn\u001b[49m\u001b[43m)\u001b[49m\n",
      "Cell \u001b[0;32mIn[171], line 64\u001b[0m, in \u001b[0;36mgenerate_RRT\u001b[0;34m(xinit, K, delt, n)\u001b[0m\n\u001b[1;32m     62\u001b[0m         currX \u001b[38;5;241m=\u001b[39m xavail_hist[\u001b[38;5;28mstr\u001b[39m(i)] \u001b[38;5;66;03m# Curr Node\u001b[39;00m\n\u001b[1;32m     63\u001b[0m         \u001b[38;5;66;03m# Plot all available nodes\u001b[39;00m\n\u001b[0;32m---> 64\u001b[0m         plt\u001b[38;5;241m.\u001b[39mplot(currX[\u001b[38;5;241m0\u001b[39m], \u001b[43mcurrX\u001b[49m\u001b[43m[\u001b[49m\u001b[38;5;241;43m1\u001b[39;49m\u001b[43m]\u001b[49m, \u001b[38;5;124m'\u001b[39m\u001b[38;5;124m.r\u001b[39m\u001b[38;5;124m'\u001b[39m)\n\u001b[1;32m     65\u001b[0m     \u001b[38;5;66;03m#    \u001b[39;00m\n\u001b[1;32m     66\u001b[0m     \u001b[38;5;66;03m#    # Plot Path to Node\u001b[39;00m\n\u001b[1;32m     67\u001b[0m     \u001b[38;5;66;03m#    # From current X, find next closest node\u001b[39;00m\n\u001b[0;32m   (...)\u001b[0m\n\u001b[1;32m     71\u001b[0m     \u001b[38;5;66;03m#    dummy, nearX = nearest_vertex(currX, xavail_prime)\u001b[39;00m\n\u001b[1;32m     72\u001b[0m     \u001b[38;5;66;03m#    plt.plot([currX[0], nearX[0]], [currX[1], nearX[1]], '-r')\u001b[39;00m\n\u001b[1;32m     74\u001b[0m plt\u001b[38;5;241m.\u001b[39mplot(x0[\u001b[38;5;241m0\u001b[39m], x0[\u001b[38;5;241m1\u001b[39m], \u001b[38;5;124m'\u001b[39m\u001b[38;5;124mob\u001b[39m\u001b[38;5;124m'\u001b[39m) \u001b[38;5;66;03m# Initial Point\u001b[39;00m\n",
      "\u001b[0;31mIndexError\u001b[0m: list index out of range"
     ]
    },
    {
     "data": {
      "image/png": "[encoded data removed]",
      "text/plain": [
       "<Figure size 640x480 with 1 Axes>"
      ]
     },
     "metadata": {},
     "output_type": "display_data"
    }
   ],
   "source": [
    "# Generate RRT\n",
    "# Based on LaValle 1998\n",
    "def generate_RRT(xinit, K, delt, n):\n",
    "    # Input\n",
    "    # i_x: Initial x position (In index)\n",
    "    # K: Number of vertices\n",
    "    # delt: time difference in discrete step\n",
    "    \n",
    "    # Output\n",
    "    # Tau: Group of Vertices\n",
    "    \n",
    "    Tau = []\n",
    "    Tau.append(xinit)\n",
    "    tolerance = 0.1\n",
    "    \n",
    "    # Add 1st set of randomly generated points\n",
    "    xavail = []\n",
    "    xavail.append((xinit[0], xinit[1]))\n",
    "    xavail_hist = {}\n",
    "    xavail_hist['0'] = xinit\n",
    "    \n",
    "    repeat = True\n",
    "    counter = 1\n",
    "    while repeat:\n",
    "        # Reset lists holding data\n",
    "        xrand_list = []\n",
    "        xnew_list = []\n",
    "        \n",
    "        for k in range(K):        \n",
    "            # Generate Random state xrand\n",
    "            # Make sure not on the building boundary\n",
    "            xrand = (rn.randint(0,n), rn.randint(0,n))\n",
    "            xrand_list.append(xrand)\n",
    "            \n",
    "            if bound(xrand) and not bound_building(xrand, building):\n",
    "                # Find nearest Neighbor in Tau\n",
    "                min_ind, xnear = nearest_vertex(xrand, xavail)\n",
    "\n",
    "                # Find Direction to move\n",
    "                dist = v*dt\n",
    "                direc = np.arctan2(xrand[1]-xnear[1], xrand[0]-xnear[0])\n",
    "\n",
    "                # Add new vertex xnew\n",
    "                xnew = (xnear[0] + dist*np.cos(direc), xnear[1] + dist*np.sin(direc))\n",
    "                xnew_list.append(xnew)\n",
    "\n",
    "                if rangeTo(xnew, xf) <= tolerance:\n",
    "                    repeat = False\n",
    "                    break\n",
    "        \n",
    "        # Update\n",
    "        for i in range(len(xnew_list)):\n",
    "            xavail.append(xnew_list[i])\n",
    "        xavail_hist[str(counter)] = xnew_list\n",
    "        counter += 1\n",
    "        \n",
    "        \n",
    "    # Visualization      \n",
    "    fig = plt.figure()\n",
    "    for i in range(counter):\n",
    "        for j in range(len(xavail_hist[str(i)])):       # Available Nodes\n",
    "            currX = xavail_hist[str(i)] # Curr Node\n",
    "            # Plot all available nodes\n",
    "            plt.plot(currX[0], currX[1], '.r')\n",
    "        #    \n",
    "        #    # Plot Path to Node\n",
    "        #    # From current X, find next closest node\n",
    "        #    min_Xind, nearX = nearest_vertex(currX, xavail)\n",
    "        #    xavail_prime = xavail.copy() # Make new list of xavail excluding itself\n",
    "        #    xavail_prime.pop(min_Xind)\n",
    "        #    dummy, nearX = nearest_vertex(currX, xavail_prime)\n",
    "        #    plt.plot([currX[0], nearX[0]], [currX[1], nearX[1]], '-r')\n",
    "\n",
    "    plt.plot(x0[0], x0[1], 'ob') # Initial Point\n",
    "    plt.plot(xf[0], xf[1], 'xb') # Initial Point\n",
    "\n",
    "    \n",
    "    # Plot Settings\n",
    "    plt.grid()\n",
    "    plt.axis('square')\n",
    "    tol = 0.1\n",
    "    plt.xlim(-tol, x[-1]+tol)\n",
    "    plt.ylim(-tol, y[-1]+tol)\n",
    "    plt.show()\n",
    "\n",
    "    return xrand_list, xnew_list, xavail, Tau\n",
    "    \n",
    "    \n",
    "def rangeTo(x0, x1):\n",
    "    return np.sqrt((x0[0] - x1[0])**2 + (x0[1] - x1[1])**2)\n",
    "        \n",
    "def nearest_vertex(xrand, xavail):\n",
    "    dist_vec = []\n",
    "\n",
    "    # Compute distance to all vertex in currently in Tau\n",
    "    for i in range(len(xavail)):\n",
    "        dist = rangeTo(xrand, xavail[i])\n",
    "        dist_vec.append(dist)\n",
    "\n",
    "    # Find nearest neighbor\n",
    "    min_index = dist_vec.index(min(dist_vec))\n",
    "    return min_index, xavail[min_index]\n",
    "\n",
    "\n",
    "\n",
    "\n",
    "Kstep = 5\n",
    "dt = 1/n\n",
    "v = 0.1*n\n",
    "\n",
    "xrand_list, xnew_list, xavail, Tau = generate_RRT(x0, Kstep, dt, n)\n",
    "\n"
   ]
  }
 ],
 "metadata": {
  "kernelspec": {
   "display_name": "Python 3 (ipykernel)",
   "language": "python",
   "name": "python3"
  },
  "language_info": {
   "codemirror_mode": {
    "name": "ipython",
    "version": 3
   },
   "file_extension": ".py",
   "mimetype": "text/x-python",
   "name": "python",
   "nbconvert_exporter": "python",
   "pygments_lexer": "ipython3",
   "version": "3.10.6"
  }
 },
 "nbformat": 4,
 "nbformat_minor": 5
}
