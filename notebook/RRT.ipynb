{
 "cells": [
  {
   "cell_type": "code",
   "execution_count": 43,
   "id": "c31fdb96-3cde-401c-806d-d9c44185b3c1",
   "metadata": {},
   "outputs": [],
   "source": [
    "import numpy as np\n",
    "import random as rn\n",
    "import matplotlib.pyplot as plt\n",
    "\n",
    "random.seed(1)"
   ]
  },
  {
   "cell_type": "code",
   "execution_count": 44,
   "id": "c62224e8-a77b-42df-9050-9346e92ad825",
   "metadata": {
    "tags": []
   },
   "outputs": [],
   "source": [
    "# Generate RRT based on Pseudocode of LaValle 1998 Paper"
   ]
  },
  {
   "cell_type": "code",
   "execution_count": 45,
   "id": "4b75fc05-01cd-45e2-9f92-16626f587f80",
   "metadata": {
    "tags": []
   },
   "outputs": [
    {
     "name": "stdout",
     "output_type": "stream",
     "text": [
      "x0: [0.05 0.05], xf: [0.95 0.95]\n"
     ]
    }
   ],
   "source": [
    "# Build Valid Movement Masking Map\n",
    "# Implemented from Game Theory example\n",
    "# n indicates number of grid cells for n x n grid\n",
    "# Meshgrid X, Y created for n^2 number of cells with x, y values of 0 to xf, yf\n",
    "n = 21\n",
    "x = np.linspace(0, 1, n)\n",
    "y = np.linspace(0, 1, n)\n",
    "X,Y = np.meshgrid(x, y)\n",
    "\n",
    "# Position function converting position index i_x to position x\n",
    "def position(i_x):\n",
    "    return np.array([x[i_x[0]], y[i_x[1]]])\n",
    "\n",
    "# Define Initial, Final position of the aggressor\n",
    "# Position index of aggressor\n",
    "i_x0 = (int(0.05*n), int(0.05*n))\n",
    "i_xf = (int(0.95*n), int(0.95*n))\n",
    "# Position of aggressor\n",
    "x0 = position(i_x0)\n",
    "xf = position(i_xf)\n",
    "print(\"x0: {}, xf: {}\".format(x0, xf))\n",
    "\n",
    "# Building Setup\n",
    "# Set nB number of buildings\n",
    "# building_i indicates 4 corners of the building generated in the field\n",
    "nB = 2\n",
    "building1 = np.array([0, 0.3, 0.25, 0.75])\n",
    "building2 = np.array([0.7, 1, 0.25, 0.75])\n",
    "building = [building1, building2]\n",
    "\n",
    "# Bound within map\n",
    "def bound(i_x):\n",
    "    return (i_x[0] >= 0 and i_x[0]<n and i_x[1] >= 0 and i_x[1]<n)\n",
    "\n",
    "def bound_building(i_x, building):\n",
    "    # building: [x0, x1, y0, y1]\n",
    "    currpos = position(i_x)\n",
    "    bcheck = np.zeros((nB,1))\n",
    "    for b in range(nB):\n",
    "        bnow = building[b]\n",
    "        bcheck[b] = (currpos[0] >= bnow[0] and currpos[0] <= bnow[1] and currpos[1] >= bnow[2] and currpos[1] <= bnow[3])\n",
    "    sumcheck = 0\n",
    "    for b in range(nB):\n",
    "        sumcheck += bcheck[b]\n",
    "    return sumcheck\n",
    "\n",
    "\n",
    "def static_movement_map(X, Y, building):\n",
    "    # Static Movement Map\n",
    "    nH = len(X)\n",
    "    nV = len(X[0])\n",
    "    \n",
    "    # For (x, y) coordinate, check if this is within the field bound while outside of building bound\n",
    "    static_map = np.zeros((nH, nV))\n",
    "    for i in range(len(X)):\n",
    "        for j in range(len(Y)):\n",
    "            # Check if the (i,j) is within field bound\n",
    "            within_bound = bound((i, j))\n",
    "            # check if the (i,j) is outside building bound\n",
    "            within_building = bound_building((i,j), building)\n",
    "            \n",
    "            # If we are within_bound but not in building >> True\n",
    "            # else >> False\n",
    "            static_map[i,j] = within_bound and not within_building\n",
    "    return static_map\n",
    "\n",
    "static_map = static_movement_map(X, Y, building)"
   ]
  },
  {
   "cell_type": "code",
   "execution_count": 46,
   "id": "02a24488-5cd7-40b8-ab4b-f9a8865660b7",
   "metadata": {
    "tags": []
   },
   "outputs": [
    {
     "data": {
      "image/png": "[encoded data removed]",
      "text/plain": [
       "<Figure size 640x480 with 1 Axes>"
      ]
     },
     "metadata": {},
     "output_type": "display_data"
    }
   ],
   "source": [
    "fig = plt.figure()\n",
    "for i in range(len(X)):\n",
    "    for j in range(len(Y)):\n",
    "        if static_map[i,j] == True:\n",
    "            plt.plot(X[j,i], Y[j,i], '.b')"
   ]
  },
  {
   "cell_type": "code",
   "execution_count": 84,
   "id": "4556d621-b3c1-45d8-a9d3-871b040035b5",
   "metadata": {},
   "outputs": [
    {
     "name": "stdout",
     "output_type": "stream",
     "text": [
      "xrand: (0.5238095238095238, 0.8571428571428571)\n",
      "xnear: [0.05 0.05]\n",
      "direc: 0.0\n",
      "xrand: (0.5238095238095238, 0.6666666666666666)\n",
      "xnear: (0.09761904761904762, 0.05)\n",
      "direc: 0.0\n",
      "xrand: (0.38095238095238093, 1.0)\n",
      "xnear: (0.14523809523809522, 0.05)\n",
      "direc: 0.0\n",
      "xrand: (0.8095238095238095, 0.9047619047619048)\n",
      "xnear: (0.19285714285714284, 0.05)\n",
      "direc: 0.0\n",
      "xrand: (0.0, 0.5714285714285714)\n",
      "xnear: [0.05 0.05]\n",
      "direc: 3.141592653589793\n",
      "xrand: (0.7619047619047619, 0.19047619047619047)\n",
      "xnear: (0.24047619047619045, 0.05)\n",
      "direc: 0.0\n",
      "xrand: (0.7619047619047619, 0.8095238095238095)\n",
      "xnear: (0.28809523809523807, 0.05)\n",
      "direc: 0.0\n",
      "xrand: (0.2857142857142857, 0.6190476190476191)\n",
      "xnear: (0.28809523809523807, 0.05)\n",
      "direc: 3.141592653589793\n",
      "xrand: (0.047619047619047616, 0.7142857142857143)\n",
      "xnear: [0.05 0.05]\n",
      "direc: 3.141592653589793\n",
      "xrand: (0.5238095238095238, 0.8571428571428571)\n",
      "xnear: (0.3357142857142857, 0.05)\n",
      "direc: 0.0\n",
      "\n"
     ]
    }
   ],
   "source": [
    "# Generate RRT\n",
    "# Based on LaValle 1998\n",
    "def generate_RRT(xinit, K, delt, n):\n",
    "    # Input\n",
    "    # i_x: Initial x position (In index)\n",
    "    # K: Number of vertices\n",
    "    # delt: time difference in discrete step\n",
    "    \n",
    "    # Output\n",
    "    # Tau: Group of Vertices\n",
    "    \n",
    "    Tau = []\n",
    "    Tau.append(xinit)\n",
    "    \n",
    "    for k in range(K):        \n",
    "        # Generate Random state xrand\n",
    "        xrand = (rn.randint(0,n)/n, rn.randint(0,n)/n)\n",
    "        print(\"xrand: {}\".format(xrand))\n",
    "        \n",
    "        # Find nearest Neighbor in Tau\n",
    "        xnear = nearest_vertex(xrand, Tau)\n",
    "        print(\"xnear: {}\".format(xnear))\n",
    "        \n",
    "        # Move along that direction for v*delt\n",
    "        movement = [\n",
    "            (1, 0), (-1, 0),  # Horizontal\n",
    "            (0, 1), (0, -1),  # Vertical\n",
    "            (0, 0)           # Stationary\n",
    "            , (1, 1), (1, -1), (-1, 1), (-1, -1) # Diagonal\n",
    "        ]\n",
    "        # No stationary..?\n",
    "        movement_ang = [\n",
    "            0, np.pi,           # Horizontal\n",
    "            np.pi/2, 3*np.pi/2,  # Vertical\n",
    "            np.pi/4, 3*np.pi/4, 5*np.pi/4, 7*np.pi/4 # Diagonal\n",
    "        \n",
    "        ]\n",
    "        direc = np.arctan2(xnear[1]-Tau[-1][1], xnear[0]-Tau[-1][0])\n",
    "        print(\"direc: {}\".format(direc))\n",
    "        # Find direction in movement we want to move?\n",
    "        diff_ang = movement_ang - direc\n",
    "        diff_ang = diff_ang.tolist()\n",
    "        min_ind = int(diff_ang.index(min(diff_ang)))\n",
    "        move_to = (movement[min_ind][0]/n, movement[min_ind][1]/n)\n",
    "        \n",
    "        # Add new vertex xnew\n",
    "        xnew = (xnear[0] + move_to[0], xnear[1] + move_to[1])      \n",
    "        \n",
    "        Tau.append(xnew)\n",
    "        if xnew == i_xf:\n",
    "            break\n",
    "        \n",
    "        \n",
    "def nearest_vertex(xrand, Tau):\n",
    "    dist_vec = []\n",
    "\n",
    "    # Compute distance to all vertex in currently in Tau\n",
    "    for i in range(len(Tau)):\n",
    "        currTau = Tau[i]\n",
    "        dist = np.sqrt((xrand[0]-currTau[0])**2 + (xrand[1]-currTau[1])**2)\n",
    "        dist_vec.append(dist)\n",
    "\n",
    "    # Find nearest neighbor\n",
    "    min_index = dist_vec.index(min(dist_vec))\n",
    "    return Tau[min_index]\n",
    "    \n",
    "\n",
    "   \n",
    "Kstep = 10\n",
    "dt = 1\n",
    "v = 1/n\n",
    "Tau = generate_RRT(position(i_x0), Kstep, dt, n)\n",
    "\n",
    "print(Tau)"
   ]
  },
  {
   "cell_type": "code",
   "execution_count": null,
   "id": "a79a18fd-da3c-46d1-940c-6f06e80737d9",
   "metadata": {},
   "outputs": [],
   "source": []
  }
 ],
 "metadata": {
  "kernelspec": {
   "display_name": "Python 3 (ipykernel)",
   "language": "python",
   "name": "python3"
  },
  "language_info": {
   "codemirror_mode": {
    "name": "ipython",
    "version": 3
   },
   "file_extension": ".py",
   "mimetype": "text/x-python",
   "name": "python",
   "nbconvert_exporter": "python",
   "pygments_lexer": "ipython3",
   "version": "3.10.6"
  }
 },
 "nbformat": 4,
 "nbformat_minor": 5
}
