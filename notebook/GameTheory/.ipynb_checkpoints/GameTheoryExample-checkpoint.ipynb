{
 "cells": [
  {
   "cell_type": "code",
   "execution_count": 1,
   "id": "8f87f49d-d884-47cf-a014-b6828b115d68",
   "metadata": {
    "tags": []
   },
   "outputs": [],
   "source": [
    "import numpy as np\n",
    "import matplotlib.pyplot as plt"
   ]
  },
  {
   "cell_type": "markdown",
   "id": "06d9794d-7440-42de-8abf-e1728a670ced",
   "metadata": {},
   "source": [
    "This is a documentation to practice/show game theory examples from literature review"
   ]
  },
  {
   "cell_type": "markdown",
   "id": "ad794cf5-f2ba-4591-9deb-69d436643581",
   "metadata": {},
   "source": [
    "Pursuit-Evasion Game\n",
    "\n",
    "Pursuit-Evasion game is a zero-sum game between defenders and attackers. Each agents tries to complete the given task while avoiding interruption from the opponent. Defenders and attackers share identical objective function, thus one's maximum strategy will automatically minimize that of their opponent's. Constraints on the pursuit-evasion game is represented by a dynamics, physical constraint conditions on vehicles."
   ]
  },
  {
   "cell_type": "markdown",
   "id": "5e47579f-7d9c-49b0-bf13-6509b5594776",
   "metadata": {},
   "source": [
    "1. 1v1 Pursuit-Evasion Game\n",
    "\n",
    "1) Homicidal Chauffeur Game\n",
    "\n",
    "High speed but less maneuverable defender is trying to catch low speed but highly maneuverable attacker. The game's goals are: a) can the defender catch faster attacker? and b) how to minimize time of capture for defender or how to maximize time of capture for attacker?\n",
    "\n",
    "A detailed study in Merz's PhD dissertation is reviewed. Here, Merz denotes defender/pursuer as $P$ and attacker/evader as $E$. $P$'s goal is to achieve capture distance $l$ with minimum capture time $t$, while $E$ tries to maximize capture time.\n",
    "\n",
    "Assumptions: For the sake of the simplicity, the example is taken at bounded 2D plane. Without bound on the map, single pursuer will never be able to capture the evader. It is also assumed that the relative position of $P$ and $E$ are known to each other. Other parameters, including speeds, capture radius, and $P$'s minimum turning radius, are also known to both players.\n",
    "\n",
    "$P$ and $E$ have different strong suites: $P$ has faster velocity while $E$ has highier mobility. Thus, the capture of $E$ will depend on a) turning rate of $P$ and b) velocity of $E$. "
   ]
  },
  {
   "cell_type": "code",
   "execution_count": 4,
   "id": "26af692e-9beb-480a-8a3c-750947ba83b1",
   "metadata": {
    "tags": []
   },
   "outputs": [],
   "source": [
    "# Agent class for P, E\n",
    "class Agent:\n",
    "    # Input: pos=(x,y,theta), turn_rad=psi, vel_mag = v\n",
    "    def __init__(self, pos, psi, v):\n",
    "        self.x = pos[0]\n",
    "        self.y = pos[1]\n",
    "        self.th = pos[2]\n",
    "        self.psi = psi\n",
    "        self.v = v\n",
    "        self.pos = pos"
   ]
  },
  {
   "cell_type": "code",
   "execution_count": 14,
   "id": "539f1f68-7d18-477b-a9bf-06a1567b16a7",
   "metadata": {
    "tags": []
   },
   "outputs": [],
   "source": [
    "# Agent P:\n",
    "P_pos = np.array([-5, -2, 0])\n",
    "P_psi = np.deg2rad(10)\n",
    "P_vel = 1\n",
    "P = Agent(P_pos, P_psi, P_vel)\n",
    "\n",
    "# Agent E:\n",
    "E_pos = np.array([5, 2, 0])\n",
    "E_psi = np.deg2rad(45)\n",
    "E_vel = 0.25\n",
    "E = Agent(E_pos, E_psi, E_vel)\n",
    "\n",
    "# Gamma = speed ratio of P and E\n",
    "# Beta = ratio of capture radius to P's minimum turn radius\n",
    "gamma = P_vel / E_vel\n",
    "r_capture = 0.5\n",
    "beta = r_capture/P_psi"
   ]
  },
  {
   "cell_type": "code",
   "execution_count": 15,
   "id": "2f662afb-938d-46f7-af33-e4f6696cde2c",
   "metadata": {
    "tags": []
   },
   "outputs": [
    {
     "data": {
      "image/png": "[encoded data removed]",
      "text/plain": [
       "<Figure size 640x480 with 1 Axes>"
      ]
     },
     "metadata": {},
     "output_type": "display_data"
    }
   ],
   "source": [
    "# Example field with agent P, E\n",
    "field_size = [-10, 10, -10, 10]\n",
    "\n",
    "fig = plt.figure()\n",
    "# Plot Agent P\n",
    "plt.plot(P.x, P.y, 'ob')\n",
    "\n",
    "# Plot Agent E\n",
    "plt.plot(E.x, E.y, 'or')\n",
    "\n",
    "plt.axis('square')\n",
    "plt.axis(field_size)\n",
    "plt.show()"
   ]
  },
  {
   "cell_type": "markdown",
   "id": "37d91a0e-77a6-4a63-922a-2cb5a8c2f2da",
   "metadata": {
    "tags": []
   },
   "source": [
    "Take on Homicidal Chauffeur Game:\n",
    "The Wolfpack project focuses on the path planning of high-speed UAV in hostile environment, involving interception from adversarial attacks. Unlike conventional perimeter defense problems, the attacker will have faster velocity with less maneuverability, while the defenders would have slower velocity but with greater agility. Thus, deployment and path planning becomes critical for the supersonic UAV to reach its destination while evading individual or coordinated interception attempt from defenders. This is a reverse-homicial chauffeur game."
   ]
  },
  {
   "cell_type": "code",
   "execution_count": null,
   "id": "0fb35bc2-afbb-45d9-ab2f-d0de4b774d94",
   "metadata": {},
   "outputs": [],
   "source": []
  }
 ],
 "metadata": {
  "kernelspec": {
   "display_name": "Python 3 (ipykernel)",
   "language": "python",
   "name": "python3"
  },
  "language_info": {
   "codemirror_mode": {
    "name": "ipython",
    "version": 3
   },
   "file_extension": ".py",
   "mimetype": "text/x-python",
   "name": "python",
   "nbconvert_exporter": "python",
   "pygments_lexer": "ipython3",
   "version": "3.10.6"
  }
 },
 "nbformat": 4,
 "nbformat_minor": 5
}
