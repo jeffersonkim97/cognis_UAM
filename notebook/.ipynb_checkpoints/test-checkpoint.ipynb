{
 "cells": [
  {
   "cell_type": "code",
   "execution_count": 49,
   "id": "c224a0ad-aea8-4d4c-881c-9c1f98bdb10b",
   "metadata": {
    "tags": []
   },
   "outputs": [],
   "source": [
    "#!/usr/bin/env python\n",
    "\n",
    "#%%\n",
    "\n",
    "\"\"\"\n",
    "These functions implement the SE2 Lie Group see (http://ethaneade.com/lie.pdf)\n",
    "\"\"\"\n",
    "\n",
    "import numpy as np\n",
    "import matplotlib.pyplot as plt\n",
    "\n",
    "def SE2_log(M):\n",
    "    \"\"\"\n",
    "    Matrix logarithm for SE2 Lie group\n",
    "    \"\"\"\n",
    "    theta = np.arctan2(M[1, 0], M[0, 0])\n",
    "    if np.abs(theta) < 1e-6:\n",
    "        A = 1 - theta**2/6 + theta**4/120\n",
    "        B = theta/2 - theta**3/24 + theta**5/720\n",
    "    else:\n",
    "        A = np.sin(theta)/theta\n",
    "        B = (1 - np.cos(theta))/theta\n",
    "    V_inv = np.array([[A, B], [-B, A]])/(A**2 + B**2)\n",
    "    t = M[:2, 2]\n",
    "    u = V_inv.dot(t)\n",
    "    return np.array([theta, u[0], u[1]])\n",
    "\n",
    "def SE2_from_param(v):\n",
    "    \"\"\"\n",
    "    Create SE2 from paramters, [theta, x, y]\n",
    "    \"\"\"\n",
    "    theta, x, y = v\n",
    "    return np.array([\n",
    "        [np.cos(theta), -np.sin(theta), x],\n",
    "        [np.sin(theta), np.cos(theta), y],\n",
    "        [0, 0, 1]\n",
    "    ])\n",
    "\n",
    "def SE2_to_param(M):\n",
    "    \"\"\"\n",
    "    From matrix to [theta, x, y]\n",
    "    \"\"\"\n",
    "    theta = np.arctan2(M[1, 0], M[0, 0])\n",
    "    x = M[0, 2]\n",
    "    y = M[1, 2]\n",
    "    return np.array([theta, x, y])\n",
    "\n",
    "def SE2_inv(M):\n",
    "    \"\"\"\n",
    "    SE2 inverse\n",
    "    \"\"\"\n",
    "    R = M[:2, :2]\n",
    "    t = np.array([M[:2, 2]]).T\n",
    "    return np.block([\n",
    "        [R.T, -R.T.dot(t)],\n",
    "        [0, 0, 1]\n",
    "    ])\n",
    "\n",
    "def SE2_exp(v):\n",
    "    \"\"\"\n",
    "    SE2 matrix exponential\n",
    "    \"\"\"\n",
    "    theta, x, y = v\n",
    "    if np.abs(theta) < 1e-6:\n",
    "        A = 1 - theta**2/6 + theta**4/120\n",
    "        B = theta/2 - theta**3/24 + theta**5/720\n",
    "    else:\n",
    "        A = np.sin(theta)/theta\n",
    "        B = (1 - np.cos(theta))/theta\n",
    "    V = np.array([[A, -B], [B, A]])\n",
    "    R = np.array([\n",
    "        [np.cos(theta), -np.sin(theta)],\n",
    "        [np.sin(theta), np.cos(theta)]])\n",
    "    u = np.array([[x, y]]).T\n",
    "    return np.block([\n",
    "        [R, V.dot(u)],\n",
    "        [0, 0,  1]])\n",
    "\n",
    "def test_SE2():\n",
    "    v = np.random.randn(3)\n",
    "    X = SE2_from_param(v)\n",
    "    assert np.allclose(X.dot(SE2_inv(X)), np.eye(3))\n",
    "    assert np.allclose(SE2_log(SE2_exp(v)) - v, np.zeros(3))\n",
    "    assert np.allclose(SE2_to_param(SE2_from_param(v)) - v, np.zeros(3))\n",
    "\n",
    "    v = np.zeros(3)\n",
    "    X = SE2_from_param(v)\n",
    "    assert np.allclose(X.dot(SE2_inv(X)), np.eye(3))\n",
    "    assert np.allclose(SE2_log(SE2_exp(v)) - v, np.zeros(3))\n",
    "    assert np.allclose(SE2_to_param(SE2_from_param(v)) - v, np.zeros(3))\n",
    "\n",
    "def sample(X_goal, box):\n",
    "    \"\"\"\n",
    "    Sample from planning area [10, 10], [-5, 5],\n",
    "    with 10% probability, return X_goal\n",
    "\n",
    "    @param X_goal: The goal position\n",
    "    @param box: [xmin, xmax, ymin, ymax]\n",
    "\n",
    "    @return: (sample, is_goal) (bool)\n",
    "    \"\"\"\n",
    "    if np.random.rand() < 0.1:\n",
    "        return X_goal, True\n",
    "    else:\n",
    "        xmin, xmax, ymin, ymax = box\n",
    "        x = xmin + (xmax - xmin)*np.random.rand()\n",
    "        y = ymin + (ymax - ymin)*np.random.rand()\n",
    "        theta = 2*np.pi*np.random.rand()\n",
    "        XS = SE2_from_param([theta, x, y])\n",
    "\n",
    "        # if close to goal in euclidean distance, set to goal\n",
    "        theta_g, x_g, y_g = SE2_to_param(X_goal)\n",
    "        d = np.sqrt((x - x_g)**2 + (y - y_g)**2)\n",
    "        if d < 1:\n",
    "            return X_goal, True\n",
    "        else:\n",
    "            return XS, False\n",
    "\n",
    "def find_u_R_d(X0, X1):\n",
    "    \"\"\"\n",
    "    Compute arch length, radius, and euclidean distance\n",
    "    \"\"\"\n",
    "    dtheta, dx, dy = SE2_to_param(SE2_inv(X0).dot(X1))\n",
    "    d = np.sqrt(dx**2 + dy**2)\n",
    "    alpha = np.arctan2(dy, dx)\n",
    "    if np.abs(alpha) > 1e-3:\n",
    "        R = d/(2*np.sin(alpha))\n",
    "        u = R*2*alpha\n",
    "    else:\n",
    "        R = np.infty\n",
    "        u = d\n",
    "    \n",
    "    return u, R, d\n",
    "\n",
    "def distance(X0, X1):\n",
    "    \"\"\"\n",
    "    Compute the distance from X0 to X1. There\n",
    "    is a higher weight placed on cross-track movement (dy),\n",
    "    as this is harder for the vehicle than turning (dtheta)\n",
    "    and formward movingment (dx)\n",
    "    \"\"\"\n",
    "    u, R, d = find_u_R_d(X0, X1)\n",
    "    cost = np.abs(u)\n",
    "    # don't allow min turn radius if not extremely close\n",
    "    if d > 0.1 and np.abs(R) < 0.5:\n",
    "        cost = np.infty\n",
    "    # don't allow backing up\n",
    "    if u < 0:\n",
    "        cost = np.infty\n",
    "    return cost\n",
    "\n",
    "def local_path_planner(X0, X1, dist):\n",
    "    \"\"\"\n",
    "    Plan a path from X0 to X1. If the norm of the lie algebra\n",
    "    is greather than 1, limit it to 1.\n",
    "\n",
    "    @para X0: start\n",
    "    @param X1: goal\n",
    "    @dist: the distance to travel\n",
    "    \"\"\"\n",
    "    u, R, d = find_u_R_d(X0, X1)\n",
    "    print('u', u)\n",
    "    print('dist', dist)\n",
    "    if np.abs(u) > dist:\n",
    "        u = dist*np.sign(u)\n",
    "    print(R)\n",
    "    print(np.abs(R))\n",
    "    if np.abs(R) < 1e-3:\n",
    "        omega = 0\n",
    "    else:\n",
    "        omega = u/R\n",
    "    v = np.array([omega, u, 0])\n",
    "    print('v', v)\n",
    "    print('u', u)\n",
    "    return X0.dot(SE2_exp(v))\n",
    "\n",
    "def collision(collision_points, vehicle_radius, X0, X1, box, steps):\n",
    "    \"\"\"\n",
    "    Check that the points along the trajectory from X0 to\n",
    "    X1 do not collide with the circular collision points defined\n",
    "    as a list of [x, y, r], where (x, y) is the center, and\n",
    "    r is the radius. Evaluate the trajectory at (steps) discrete\n",
    "    points.\n",
    "\n",
    "    @param collision_points: list of [x, y, radius]\n",
    "    @param vehicle_radius: radius of vehicle\n",
    "    @param X0: start point\n",
    "    @param X1: end point\n",
    "    @param box: [xmin, xmax, ymin, ymax]\n",
    "    @param steps: number of steps along trajectory\n",
    "    \"\"\"\n",
    "    v = SE2_log(SE2_inv(X0).dot(X1))\n",
    "    for t in np.linspace(0, 1, steps):\n",
    "        X = X0.dot(SE2_exp(v*t))\n",
    "        theta, x, y = SE2_to_param(X)\n",
    "        # check bounds of environment\n",
    "        rv = vehicle_radius\n",
    "        if (x < box[0] + rv or x > box[1] - rv or y < box[2] + rv or y > box[3] - rv):\n",
    "            return True\n",
    "        for xc, yc, r in collision_points:\n",
    "            if (xc - x)**2 + (yc - y)**2 < (r + rv)**2:\n",
    "                return True\n",
    "    return False\n",
    "\n",
    "class Tree:\n",
    "    \"\"\"\n",
    "    This is a tree data structure that is used for RRT.\n",
    "    Each tree has one parent, and a list of children.\n",
    "    \"\"\"\n",
    "\n",
    "    def __init__(self, position):\n",
    "        self.position = position\n",
    "        self.parent = None\n",
    "        self.children = []\n",
    "\n",
    "    def add(self, child):\n",
    "        \"\"\"\n",
    "        Add the child node to the tree.\n",
    "        \"\"\"\n",
    "        child.parent = self\n",
    "        self.children.append(child)\n",
    "\n",
    "    def closest(self, position, black_list):\n",
    "        \"\"\"\n",
    "        Find the node closest to the given position.\n",
    "\n",
    "        @param position to get closest to\n",
    "        @param black_list: black list of children to ignore\n",
    "         (so can avoid duplicate collision checks)\n",
    "        \"\"\"\n",
    "        closest_node = self\n",
    "        if self in black_list:\n",
    "            dist_min = np.infty\n",
    "        else:\n",
    "            dist_min = distance(self.position, position)\n",
    "        for child in self.children:\n",
    "            child_closest, dist_child = child.closest(position, black_list)\n",
    "            if dist_child < dist_min:\n",
    "                closest_node = child_closest\n",
    "                dist_min = dist_child\n",
    "        return closest_node, dist_min\n",
    "\n",
    "    def get_leaves(self):\n",
    "        \"\"\"store_true\n",
    "        Get all nodes (leaves) in the tree.\n",
    "        \"\"\"\n",
    "        leaves = [self]\n",
    "        for child in self.children:\n",
    "            leaves.extend(child.get_leaves())\n",
    "        return leaves\n",
    "\n",
    "    def path(self):\n",
    "        \"\"\"\n",
    "        Find the path from the root of the tree to the current node.\n",
    "        \"\"\"\n",
    "        ret = [self]\n",
    "        if self.parent is not None:\n",
    "            ret = self.parent.path()\n",
    "            ret.append(self)\n",
    "        return ret\n",
    "\n",
    "def rrt(X_start, X_goal, vehicle_radius, box, collision_points, plot, max_iterations, dist_plan, tolerance):\n",
    "    \"\"\"\n",
    "    Rapidly exploring random tree planner\n",
    "\n",
    "    @param X_start: start SE2 element\n",
    "    @param X_goal: goal SE2 element\n",
    "    @param vehicle_radius: radius of vehicle\n",
    "    @param box: [xmin, xmax, ymin, ymax]\n",
    "    @param collision_points: list of [x, y, radius]\n",
    "    @param plot (bool), controls plotting\n",
    "    @param max_iteration, maximum iterations\n",
    "    @param dist_plan, local_path_planner plan distance\n",
    "    @param tolerance, goal accpetance distance\n",
    "    @return path as a list of Tree nodes\n",
    "    \"\"\"\n",
    "\n",
    "    def goal_dist(X):\n",
    "        \"\"\"\n",
    "        Euclidean distance to goal\n",
    "        \"\"\"\n",
    "        etheta, ex, ey = SE2_to_param(SE2_inv(X).dot(X_goal))\n",
    "        return np.sqrt(ex**2 + ey**2)\n",
    "\n",
    "    root = Tree(X_start)\n",
    "    node_best = root\n",
    "    dist_best = goal_dist(X_start)\n",
    "    assert dist_best != 0\n",
    "\n",
    "    if plot:\n",
    "        fig = plt.figure(figsize=(10, 10))\n",
    "\n",
    "    i = 0\n",
    "    goal_black_list = []\n",
    "    success = False\n",
    "\n",
    "    while True:\n",
    "\n",
    "        # check if we have exeeded max iterations\n",
    "        i += 1\n",
    "        if i > max_iterations:\n",
    "            print('max iterations exceeded')\n",
    "            break\n",
    "\n",
    "        # draw a random sample\n",
    "        XS, goal_sampled = sample(X_goal, box)\n",
    "\n",
    "        if plot:\n",
    "            ps = SE2_to_param(XS)\n",
    "            plt.plot(ps[1], ps[2], 'r+', markersize=10)\n",
    "\n",
    "        # find the closest node to the sample\n",
    "        if goal_sampled:\n",
    "            node, dist = root.closest(XS, goal_black_list)\n",
    "            if node in goal_black_list:\n",
    "                continue\n",
    "        else:\n",
    "            node, dist = root.closest(XS, [])\n",
    "\n",
    "        # plan a path towards the sample from the closest node\n",
    "        X0 = node.position\n",
    "        X1 = local_path_planner(X0, XS, dist=dist_plan)\n",
    "\n",
    "        # if the path has a collision, skip\n",
    "        if collision(collision_points, vehicle_radius, X0, X1, box, 5):\n",
    "           if goal_sampled:\n",
    "               goal_black_list.append(node)\n",
    "           continue\n",
    "\n",
    "        # add the end of the local_path_planner path to the tree\n",
    "        new_node = Tree(X1)\n",
    "        node.add(new_node)\n",
    "\n",
    "        # plot the tree\n",
    "        p0 = SE2_to_param(node.position)\n",
    "        p1 = SE2_to_param(new_node.position)\n",
    "\n",
    "        if plot:\n",
    "            # plt.plot([p0[1], p1[1]], [p0[2], p1[2]], 'k-', alpha=0.1)\n",
    "            v = SE2_log(SE2_inv(X0).dot(X1))\n",
    "            p_path = []\n",
    "            for t in np.linspace(0, 1, 10):\n",
    "                X = X0.dot(SE2_exp(v*t))\n",
    "                theta, x, y = SE2_to_param(X)\n",
    "                p_path.append([x, y])\n",
    "            p_path = np.array(p_path)\n",
    "            plt.plot(p_path[:, 0], p_path[:, 1],  'r-', alpha=0.1)\n",
    "\n",
    "        # use euclidean distance to check for termination\n",
    "        dist = goal_dist(X1)\n",
    "        if dist < dist_best:\n",
    "            dist_best = dist\n",
    "            node_best = new_node\n",
    "\n",
    "        # check if we have reached the goal\n",
    "        if dist_best < tolerance:\n",
    "            success = True\n",
    "            break\n",
    "\n",
    "    # build the path\n",
    "    path = node_best.path()\n",
    "\n",
    "    path_full = []\n",
    "    for i in range(len(path) - 1):\n",
    "        X0 = path[i].position\n",
    "        X1 = path[i+1].position\n",
    "        v = SE2_log(SE2_inv(X0).dot(X1))\n",
    "        for t in np.linspace(0, 1, 10):\n",
    "            X = X0.dot(SE2_exp(v*t))\n",
    "            theta, x, y = SE2_to_param(X)\n",
    "            path_full.append([x, y])\n",
    "    path_full = np.array(path_full)\n",
    "\n",
    "    # set the limits for the plot\n",
    "    if plot:\n",
    "        # plot all nodes\n",
    "        for leaf in root.get_leaves():\n",
    "            p = SE2_to_param(leaf.position)\n",
    "            plt.plot(p[1], p[2], 'bo', alpha=0.3)\n",
    "\n",
    "        # plot the collision points\n",
    "        for x, y, r in collision_points:\n",
    "            circle1 = plt.Circle((x, y), r, color='r')\n",
    "            plt.gca().add_artist(circle1)\n",
    "\n",
    "        # plot the start and goal positions\n",
    "        xs = SE2_to_param(X_start)\n",
    "        xg = SE2_to_param(X_goal)\n",
    "        plt.plot(xs[1], xs[2], 'rs', markersize=15, alpha=0.3, label='start')\n",
    "        plt.plot(xg[1], xg[2], 'gs', markersize=15, alpha=0.3, label='goal')\n",
    "\n",
    "\n",
    "        if len(path_full) > 0:\n",
    "            plt.plot(path_full[:, 0], path_full[:, 1], 'g-', linewidth=10, alpha=0.3, label='path')\n",
    "\n",
    "        plt.gca().set_xlim([box[0], box[1]])\n",
    "        plt.gca().set_ylim([box[2], box[3]])\n",
    "        plt.grid()\n",
    "\n",
    "        plt.xlabel('x, m')\n",
    "        plt.ylabel('y, m')\n",
    "        plt.title('RRT')\n",
    "        plt.legend()\n",
    "        plt.show()\n",
    "\n",
    "    return {\n",
    "        'success': success,\n",
    "        'path': path,\n",
    "        'path_full': path_full\n",
    "    }"
   ]
  },
  {
   "cell_type": "code",
   "execution_count": 50,
   "id": "aa11e74b-957d-440d-a324-6ddc69b0b684",
   "metadata": {
    "tags": []
   },
   "outputs": [],
   "source": [
    "X_start = SE2_from_param([np.pi/2, 0, 0])  # theta=0, x=0, y=0\n",
    "X_goal = SE2_from_param([np.pi/2, 0, 10])  # theta=0, x=10, y=0\n",
    "box = [-5, 5, -5, 12.5, ]"
   ]
  },
  {
   "cell_type": "code",
   "execution_count": 87,
   "id": "5e85462c-9f03-4aca-80b5-599c7102eed3",
   "metadata": {
    "tags": []
   },
   "outputs": [
    {
     "name": "stdout",
     "output_type": "stream",
     "text": [
      "u 1.5707963267948966\n",
      "dist 2\n",
      "-1.0\n",
      "1.0\n",
      "v [-1.57079633  1.57079633  0.        ]\n",
      "u 1.5707963267948966\n",
      "==================\n",
      "u 1.5707963267948966\n",
      "dist 1\n",
      "-1.0\n",
      "1.0\n",
      "v [-1.  1.  0.]\n",
      "u 1.0\n"
     ]
    }
   ],
   "source": [
    "X0 = SE2_from_param([np.pi/2, 0, 0])\n",
    "XS = SE2_from_param([np.pi/2, 1, 1])\n",
    "Xf = SE2_from_param([np.pi/2, 10, 0])\n",
    "\n",
    "#print('arc length, radius, distance')\n",
    "#print(find_u_R_d(X0, XS))\n",
    "\n",
    "X1 = local_path_planner(X0, XS, 2)\n",
    "print('==================')\n",
    "X2 = local_path_planner(X0, XS, 1)"
   ]
  },
  {
   "cell_type": "code",
   "execution_count": 88,
   "id": "5e45bab2-723d-418f-8f0c-ea8c9687a1fe",
   "metadata": {
    "tags": []
   },
   "outputs": [],
   "source": [
    "root = Tree(X_start)"
   ]
  },
  {
   "cell_type": "code",
   "execution_count": 89,
   "id": "6fe306c8-9bb8-494f-b53b-187552db2515",
   "metadata": {
    "tags": []
   },
   "outputs": [],
   "source": [
    "node, dist = root.closest(XS, [])"
   ]
  },
  {
   "cell_type": "code",
   "execution_count": 90,
   "id": "f3b6d330-ad45-4fc0-846f-c56670bde752",
   "metadata": {
    "tags": []
   },
   "outputs": [
    {
     "name": "stdout",
     "output_type": "stream",
     "text": [
      "<__main__.Tree object at 0x7f3cb94daf50>\n",
      "1.5707963267948966\n"
     ]
    }
   ],
   "source": [
    "print(node)\n",
    "print(dist)"
   ]
  },
  {
   "cell_type": "code",
   "execution_count": 91,
   "id": "9dfd9e2f-c8a3-4a79-8582-6b34f6476520",
   "metadata": {
    "tags": []
   },
   "outputs": [],
   "source": [
    "new_node = Tree(X1)\n",
    "node.add(new_node)"
   ]
  },
  {
   "cell_type": "code",
   "execution_count": 92,
   "id": "4b1850ec-1cf6-41bc-afc6-10483dc6315b",
   "metadata": {
    "tags": []
   },
   "outputs": [],
   "source": [
    "p0 = SE2_to_param(node.position)\n",
    "p1 = SE2_to_param(new_node.position)"
   ]
  },
  {
   "cell_type": "code",
   "execution_count": 93,
   "id": "9709de9b-3810-4ff6-9b5c-c22905122798",
   "metadata": {
    "tags": []
   },
   "outputs": [
    {
     "name": "stdout",
     "output_type": "stream",
     "text": [
      "[[0.         0.        ]\n",
      " [0.01519225 0.17364818]\n",
      " [0.06030738 0.34202014]\n",
      " [0.1339746  0.5       ]\n",
      " [0.23395556 0.64278761]\n",
      " [0.35721239 0.76604444]\n",
      " [0.5        0.8660254 ]\n",
      " [0.65797986 0.93969262]\n",
      " [0.82635182 0.98480775]\n",
      " [1.         1.        ]]\n"
     ]
    },
    {
     "data": {
      "text/plain": [
       "[<matplotlib.lines.Line2D at 0x7f3cb8dd1e10>]"
      ]
     },
     "execution_count": 93,
     "metadata": {},
     "output_type": "execute_result"
    },
    {
     "data": {
      "image/png": "[encoded data removed]",
      "text/plain": [
       "<Figure size 640x480 with 1 Axes>"
      ]
     },
     "metadata": {},
     "output_type": "display_data"
    }
   ],
   "source": [
    "fig = plt.figure()\n",
    "v = SE2_log(SE2_inv(X0).dot(X1))\n",
    "p_path = []\n",
    "for t in np.linspace(0, 1, 10):\n",
    "    X = X0.dot(SE2_exp(v*t))\n",
    "    theta, x, y = SE2_to_param(X)\n",
    "    p_path.append([x, y])\n",
    "p_path = np.array(p_path)\n",
    "print(p_path)\n",
    "plt.plot(p_path[:, 0], p_path[:, 1],  'r-', alpha=0.1)"
   ]
  },
  {
   "cell_type": "code",
   "execution_count": 83,
   "id": "8a2fa7b2-79da-4ff9-a05f-1284e0309883",
   "metadata": {
    "tags": []
   },
   "outputs": [
    {
     "name": "stdout",
     "output_type": "stream",
     "text": [
      "Xf [[ 6.123234e-17 -1.000000e+00  1.000000e+01]\n",
      " [ 1.000000e+00  6.123234e-17  0.000000e+00]\n",
      " [ 0.000000e+00  0.000000e+00  1.000000e+00]]\n",
      "XS [[ 6.123234e-17 -1.000000e+00  2.000000e+00]\n",
      " [ 1.000000e+00  6.123234e-17  3.000000e+00]\n",
      " [ 0.000000e+00  0.000000e+00  1.000000e+00]]\n",
      "Diff  [[ 0.  0.  8.]\n",
      " [ 0.  0. -3.]\n",
      " [ 0.  0.  0.]]\n",
      "8.54400374531753\n"
     ]
    }
   ],
   "source": [
    "print('Xf', Xf)\n",
    "print('XS', XS)\n",
    "\n",
    "kek = Xf-XS\n",
    "print('Diff ', kek)\n",
    "print(np.sqrt((kek[0,2])**2 + (kek[1,2])**2))"
   ]
  },
  {
   "cell_type": "code",
   "execution_count": 81,
   "id": "f00dde83-59ca-4ed9-9234-024a1d6d3c22",
   "metadata": {
    "tags": []
   },
   "outputs": [
    {
     "name": "stdout",
     "output_type": "stream",
     "text": [
      "8.54400374531753\n"
     ]
    }
   ],
   "source": [
    "print(np.sqrt((10-2)**2 + (0-(-3))**2))"
   ]
  },
  {
   "cell_type": "code",
   "execution_count": 100,
   "id": "671518a4-e467-446a-934d-dd784b149f9a",
   "metadata": {
    "tags": []
   },
   "outputs": [
    {
     "name": "stdout",
     "output_type": "stream",
     "text": [
      "0.0 1.0 0.9999999999999999\n"
     ]
    }
   ],
   "source": [
    "V = SE2_inv(X0).dot(X1)\n",
    "X = X0.dot(V)\n",
    "theta, x, y = SE2_to_param(X)\n",
    "print(theta, x, y)"
   ]
  },
  {
   "cell_type": "code",
   "execution_count": 102,
   "id": "2bec9b5c-5caf-44e4-8516-ac0c532cf9f6",
   "metadata": {
    "tags": []
   },
   "outputs": [],
   "source": [
    "def coll(collision_points, vehicle_radius, X0, X1, box, steps):\n",
    "    v = SE2_log(SE2_inv(X0).dot(X1))\n",
    "    for t in np.linspace(0, 1, steps):\n",
    "        X = X0.dot(SE2_exp(v*t))\n",
    "        theta, x, y = SE2_to_param(X)\n",
    "        # check bounds of environment\n",
    "        rv = vehicle_radius\n",
    "        #if (x < box[0] + rv or x > box[1] - rv or y < box[2] + rv or y > box[3] - rv):\n",
    "            #return True\n",
    "        for xc, yc, r in collision_points:\n",
    "            if (xc - x)**2 + (yc - y)**2 < (r + rv)**2:\n",
    "                return True\n",
    "    return False"
   ]
  },
  {
   "cell_type": "code",
   "execution_count": 103,
   "id": "689d4f56-cf0d-4d4f-9ec4-f7800b4942a3",
   "metadata": {
    "tags": []
   },
   "outputs": [
    {
     "data": {
      "text/plain": [
       "True"
      ]
     },
     "execution_count": 103,
     "metadata": {},
     "output_type": "execute_result"
    }
   ],
   "source": [
    "collision_points = np.vstack([[.4, .7], [.1, .5], [.1, .1]]).T\n",
    "coll(collision_points, .5, X0, X1, box, 5)"
   ]
  },
  {
   "cell_type": "code",
   "execution_count": null,
   "id": "86b5ab4c-18ea-4728-b62c-cba72def4d03",
   "metadata": {},
   "outputs": [],
   "source": []
  }
 ],
 "metadata": {
  "kernelspec": {
   "display_name": "Python 3 (ipykernel)",
   "language": "python",
   "name": "python3"
  },
  "language_info": {
   "codemirror_mode": {
    "name": "ipython",
    "version": 3
   },
   "file_extension": ".py",
   "mimetype": "text/x-python",
   "name": "python",
   "nbconvert_exporter": "python",
   "pygments_lexer": "ipython3",
   "version": "3.10.6"
  }
 },
 "nbformat": 4,
 "nbformat_minor": 5
}
